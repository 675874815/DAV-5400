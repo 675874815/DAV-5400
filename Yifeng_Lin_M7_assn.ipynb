{
 "cells": [
  {
   "cell_type": "markdown",
   "metadata": {},
   "source": [
    "## DAV 5400 Module 7 Assignment "
   ]
  },
  {
   "cell_type": "markdown",
   "metadata": {},
   "source": [
    "Text data is often in need of “cleaning” and preparation before it can be effectively used for analysis purposes.\n",
    "First I will import re module. Next I will load the text into Jupyter."
   ]
  },
  {
   "cell_type": "code",
   "execution_count": 1,
   "metadata": {},
   "outputs": [],
   "source": [
    "# load the re module\n",
    "import re"
   ]
  },
  {
   "cell_type": "code",
   "execution_count": 2,
   "metadata": {},
   "outputs": [],
   "source": [
    "text = \"\"\"555-1239Khan, Ghengis(636) 555-0113Fitzgerald, F. Scott555 -6542Rev. Adam Clayton Powell\n",
    "555 8904Loretta Lynn636-555-3226Case,Justin5553642Dr. Julius Erving555-401-2232Constance Prudence Boringsworth\"\"\""
   ]
  },
  {
   "cell_type": "markdown",
   "metadata": {},
   "source": [
    "### 1.  Extract the names of each individual from the unformatted text string and store them in a vector of some sort."
   ]
  },
  {
   "cell_type": "markdown",
   "metadata": {},
   "source": [
    "I will first compile a regex I will use. Then I will apply the regex to extract only the name."
   ]
  },
  {
   "cell_type": "code",
   "execution_count": 3,
   "metadata": {},
   "outputs": [],
   "source": [
    "# start by compiling the regex I will use to parse out the names:\n",
    "# here you are creating a compiled regex and assigning it the name 'name'\n",
    "# the regex can then be applied repeatedly throughout my Python code.\n",
    "name = re.compile('[A-Za-z]+[\\W]+[A-Za-z]+[\\s\\.]*[A-Za-z]*\\s*[A-Za-z]*')"
   ]
  },
  {
   "cell_type": "code",
   "execution_count": 4,
   "metadata": {},
   "outputs": [
    {
     "data": {
      "text/plain": [
       "['Khan, Ghengis',\n",
       " 'Fitzgerald, F. Scott',\n",
       " 'Rev. Adam Clayton Powell',\n",
       " 'Loretta Lynn',\n",
       " 'Case,Justin',\n",
       " 'Dr. Julius Erving',\n",
       " 'Constance Prudence Boringsworth']"
      ]
     },
     "execution_count": 4,
     "metadata": {},
     "output_type": "execute_result"
    }
   ],
   "source": [
    "# now apply the 'name' regex to the text to extract ONLY the name\n",
    "a = name.findall(text)\n",
    "a"
   ]
  },
  {
   "cell_type": "markdown",
   "metadata": {},
   "source": [
    "### 2. Using your new vector containing only the names of the six individuals, complete the following tasks:"
   ]
  },
  {
   "cell_type": "markdown",
   "metadata": {},
   "source": [
    "#### a.  Use your regex skills to rearrange the vector so that all elements conform to the standard “firstname middlename lastname”, preserving any titles (e.g., “Rev.”, “Dr.”, etc) or middle/second names."
   ]
  },
  {
   "cell_type": "markdown",
   "metadata": {},
   "source": [
    "First, create an empty list, then use a control flow to find the names has a comma, at last, adjust the sequence of names with a comma and put them in the empty list. "
   ]
  },
  {
   "cell_type": "code",
   "execution_count": 5,
   "metadata": {},
   "outputs": [
    {
     "data": {
      "text/plain": [
       "['Ghengis Khan',\n",
       " 'F. Scott Fitzgerald',\n",
       " 'Rev. Adam Clayton Powell',\n",
       " 'Loretta Lynn',\n",
       " 'Justin Case',\n",
       " 'Dr. Julius Erving',\n",
       " 'Constance Prudence Boringsworth']"
      ]
     },
     "execution_count": 5,
     "metadata": {},
     "output_type": "execute_result"
    }
   ],
   "source": [
    "# create an empty list\n",
    "Standardname = []\n",
    "for name in a:\n",
    "# define a comma as a pattern\n",
    "    pattern = ','\n",
    "# search comma in each name\n",
    "    if re.search(pattern,name):\n",
    "# spilt the name with comma\n",
    "        newname = re.split(pattern, name)\n",
    "# trim every whitespace and add a white space between first name and last name \n",
    "        standardname = newname[1].strip() + ' ' + newname[0].strip()\n",
    "# add standardnames into list 'Standardname'\n",
    "        Standardname.append(standardname)\n",
    "    else:\n",
    "# add name without a comma into list 'Standardname'\n",
    "        Standardname.append(name)\n",
    "Standardname"
   ]
  },
  {
   "cell_type": "markdown",
   "metadata": {},
   "source": [
    "#### b. Construct a logical vector indicating whether a character has a title (i.e., Rev. and Dr.)."
   ]
  },
  {
   "cell_type": "markdown",
   "metadata": {},
   "source": [
    "I will first change the above list to a pd.series, then I will use the contains function to find which name has a title."
   ]
  },
  {
   "cell_type": "code",
   "execution_count": 6,
   "metadata": {},
   "outputs": [],
   "source": [
    "# import Pandas library\n",
    "import pandas as pd\n",
    "import numpy as np"
   ]
  },
  {
   "cell_type": "code",
   "execution_count": 7,
   "metadata": {},
   "outputs": [
    {
     "data": {
      "text/plain": [
       "0                       Ghengis Khan\n",
       "1                F. Scott Fitzgerald\n",
       "2           Rev. Adam Clayton Powell\n",
       "3                       Loretta Lynn\n",
       "4                        Justin Case\n",
       "5                  Dr. Julius Erving\n",
       "6    Constance Prudence Boringsworth\n",
       "dtype: object"
      ]
     },
     "execution_count": 7,
     "metadata": {},
     "output_type": "execute_result"
    }
   ],
   "source": [
    "# change list to pd.series\n",
    "data = pd.Series(Standardname)\n",
    "data"
   ]
  },
  {
   "cell_type": "code",
   "execution_count": 8,
   "metadata": {},
   "outputs": [
    {
     "data": {
      "text/plain": [
       "0    False\n",
       "1     True\n",
       "2     True\n",
       "3    False\n",
       "4    False\n",
       "5     True\n",
       "6    False\n",
       "dtype: bool"
      ]
     },
     "execution_count": 8,
     "metadata": {},
     "output_type": "execute_result"
    }
   ],
   "source": [
    "# search the 'data' object for the pattern '\\w+\\.': the result is a boolean\n",
    "# vector\n",
    "data.str.contains('\\w+\\.')"
   ]
  },
  {
   "cell_type": "markdown",
   "metadata": {},
   "source": [
    "#### c. Construct a logical vector indicating whether a character has a middle/second name."
   ]
  },
  {
   "cell_type": "markdown",
   "metadata": {},
   "source": [
    "Like above method, use the contains function to find which name has a middle/second name."
   ]
  },
  {
   "cell_type": "code",
   "execution_count": 9,
   "metadata": {},
   "outputs": [
    {
     "data": {
      "text/plain": [
       "0    False\n",
       "1    False\n",
       "2     True\n",
       "3    False\n",
       "4    False\n",
       "5    False\n",
       "6     True\n",
       "dtype: bool"
      ]
     },
     "execution_count": 9,
     "metadata": {},
     "output_type": "execute_result"
    }
   ],
   "source": [
    "# search the 'data' object for the pattern '\\w+ \\w+ ': the result is a boolean\n",
    "# vector\n",
    "data.str.contains('\\w+ \\w+ ')"
   ]
  },
  {
   "cell_type": "markdown",
   "metadata": {},
   "source": [
    "### 3. Consider the HTML string below. We would like to extract the first HTML tag. To do so we write the regular expression “<.+>”. Explain why this fails and correct the expression."
   ]
  },
  {
   "cell_type": "code",
   "execution_count": 2,
   "metadata": {},
   "outputs": [],
   "source": [
    "text1 = \"<title>+++BREAKING NEWS+++<title>\""
   ]
  },
  {
   "cell_type": "code",
   "execution_count": 6,
   "metadata": {},
   "outputs": [
    {
     "data": {
      "text/plain": [
       "<re.Match object; span=(0, 33), match='<title>+++BREAKING NEWS+++<title>'>"
      ]
     },
     "execution_count": 6,
     "metadata": {},
     "output_type": "execute_result"
    }
   ],
   "source": [
    "# use the search function to return the first match object for the text1, which corresponds to the pattern '<.+>'\n",
    "re.search('<.+>',text1)"
   ]
  },
  {
   "cell_type": "markdown",
   "metadata": {},
   "source": [
    "As we can see, the above pattren gets a wrong result, because we don't use '?' to make it perform the match in non-greedy or minimal fashion, below are my 2 right answers."
   ]
  },
  {
   "cell_type": "code",
   "execution_count": 12,
   "metadata": {},
   "outputs": [
    {
     "data": {
      "text/plain": [
       "<re.Match object; span=(0, 7), match='<title>'>"
      ]
     },
     "execution_count": 12,
     "metadata": {},
     "output_type": "execute_result"
    }
   ],
   "source": [
    "# use the search function to return the first match object for the text1, which corresponds to the pattern '<[a-z]{5}>'\n",
    "re.search('<[a-z]{5}>',text1)"
   ]
  },
  {
   "cell_type": "code",
   "execution_count": 7,
   "metadata": {},
   "outputs": [
    {
     "data": {
      "text/plain": [
       "<re.Match object; span=(0, 7), match='<title>'>"
      ]
     },
     "execution_count": 7,
     "metadata": {},
     "output_type": "execute_result"
    }
   ],
   "source": [
    "# use the search function to return the first match object for the text1, which corresponds to the pattern '^<.+?>'\n",
    "re.search('<.+?>',text1)"
   ]
  },
  {
   "cell_type": "markdown",
   "metadata": {},
   "source": [
    "### 4. Consider the string “(5-3)^2=5^2-2*5*3+3^2” conforms to the binomial theorem. We would like to extract the formula in the string. To do so we write the regular expression “[^0-9=+*()]+”. Explain why this fails and correct the expression."
   ]
  },
  {
   "cell_type": "code",
   "execution_count": 14,
   "metadata": {},
   "outputs": [],
   "source": [
    "text2 = \"(5-3)^2=5^2-2*5*3+3^2\""
   ]
  },
  {
   "cell_type": "code",
   "execution_count": 15,
   "metadata": {},
   "outputs": [
    {
     "data": {
      "text/plain": [
       "['-', '^', '^', '-', '^']"
      ]
     },
     "execution_count": 15,
     "metadata": {},
     "output_type": "execute_result"
    }
   ],
   "source": [
    "# extract the match object in the text2, which corresponds to the pattern '[^0-9=+*()]+'\n",
    "re.findall('[^0-9=+*()]+',text2)"
   ]
  },
  {
   "cell_type": "markdown",
   "metadata": {},
   "source": [
    "As we can see, the above pattren gets a wrong result, because '^' in the pattren isn't mean mathematical exponent symbol, and '+' and '*' have special meanings in regex, below are my 2 right answers."
   ]
  },
  {
   "cell_type": "code",
   "execution_count": 16,
   "metadata": {},
   "outputs": [
    {
     "data": {
      "text/plain": [
       "['(5-3)^2=5^2-2*5*3+3^2']"
      ]
     },
     "execution_count": 16,
     "metadata": {},
     "output_type": "execute_result"
    }
   ],
   "source": [
    "# extract the match object in the text2, which corresponds to the pattern '[\\d\\W]+'\n",
    "re.findall('[\\d\\W]+',text2)"
   ]
  },
  {
   "cell_type": "code",
   "execution_count": 21,
   "metadata": {},
   "outputs": [
    {
     "data": {
      "text/plain": [
       "['(5-3)^2=5^2-2*5*3+3^2']"
      ]
     },
     "execution_count": 21,
     "metadata": {},
     "output_type": "execute_result"
    }
   ],
   "source": [
    "# extract the match object in the text2, which corresponds to the pattern r'[0-9-=+*()^]+'\n",
    "re.findall(r'[0-9-=+*()^]+',text2)"
   ]
  },
  {
   "cell_type": "code",
   "execution_count": null,
   "metadata": {},
   "outputs": [],
   "source": []
  }
 ],
 "metadata": {
  "kernelspec": {
   "display_name": "Python 3",
   "language": "python",
   "name": "python3"
  },
  "language_info": {
   "codemirror_mode": {
    "name": "ipython",
    "version": 3
   },
   "file_extension": ".py",
   "mimetype": "text/x-python",
   "name": "python",
   "nbconvert_exporter": "python",
   "pygments_lexer": "ipython3",
   "version": "3.8.5"
  }
 },
 "nbformat": 4,
 "nbformat_minor": 4
}
