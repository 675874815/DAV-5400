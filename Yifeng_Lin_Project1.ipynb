{
 "cells": [
  {
   "cell_type": "markdown",
   "metadata": {},
   "source": [
    "## DAV 5400 Project 1 (M6)"
   ]
  },
  {
   "cell_type": "markdown",
   "metadata": {},
   "source": [
    "## Our Group: Yifeng Lin & Yuan Zheng"
   ]
  },
  {
   "cell_type": "markdown",
   "metadata": {},
   "source": [
    "# Introduction\n",
    "\n",
    "For this assignment we will be utilizing a data set on restaurant business rankings 2020(top 250) to answer research questions.\n",
    "\n",
    "First we will import pandas, numpy, matploblib and seaborn. Next we will read the file into Jupyter by using the code provided in the assignment."
   ]
  },
  {
   "cell_type": "code",
   "execution_count": 6,
   "metadata": {},
   "outputs": [],
   "source": [
    "# first import pandas\n",
    "import pandas as pd\n",
    "\n",
    "# also import numpy, just in case\n",
    "import numpy as np\n",
    "\n",
    "# OPTIONAL: load the Series and DataFrame functions if you want to avoid the use of \n",
    "# the 'pd' predicate every time you want to create a new Series or \n",
    "# DataFrame object.\n",
    "from pandas import Series, DataFrame"
   ]
  },
  {
   "cell_type": "markdown",
   "metadata": {},
   "source": [
    "%matplotlib notebook"
   ]
  },
  {
   "cell_type": "code",
   "execution_count": 7,
   "metadata": {},
   "outputs": [],
   "source": [
    "# load the pyplot function from the matplotlib library\n",
    "import matplotlib.pyplot as plt"
   ]
  },
  {
   "cell_type": "code",
   "execution_count": 8,
   "metadata": {},
   "outputs": [],
   "source": [
    "import seaborn as sns"
   ]
  },
  {
   "cell_type": "code",
   "execution_count": 9,
   "metadata": {},
   "outputs": [
    {
     "data": {
      "text/html": [
       "<div>\n",
       "<style scoped>\n",
       "    .dataframe tbody tr th:only-of-type {\n",
       "        vertical-align: middle;\n",
       "    }\n",
       "\n",
       "    .dataframe tbody tr th {\n",
       "        vertical-align: top;\n",
       "    }\n",
       "\n",
       "    .dataframe thead th {\n",
       "        text-align: right;\n",
       "    }\n",
       "</style>\n",
       "<table border=\"1\" class=\"dataframe\">\n",
       "  <thead>\n",
       "    <tr style=\"text-align: right;\">\n",
       "      <th></th>\n",
       "      <th>Rank</th>\n",
       "      <th>Restaurant</th>\n",
       "      <th>Content</th>\n",
       "      <th>Sales</th>\n",
       "      <th>YOY_Sales</th>\n",
       "      <th>Units</th>\n",
       "      <th>YOY_Units</th>\n",
       "      <th>Headquarters</th>\n",
       "      <th>Segment_Category</th>\n",
       "    </tr>\n",
       "  </thead>\n",
       "  <tbody>\n",
       "    <tr>\n",
       "      <th>0</th>\n",
       "      <td>1</td>\n",
       "      <td>McDonald's</td>\n",
       "      <td>NaN</td>\n",
       "      <td>40412</td>\n",
       "      <td>0.049</td>\n",
       "      <td>13846</td>\n",
       "      <td>-0.005</td>\n",
       "      <td>NaN</td>\n",
       "      <td>Quick Service &amp; Burger</td>\n",
       "    </tr>\n",
       "    <tr>\n",
       "      <th>1</th>\n",
       "      <td>2</td>\n",
       "      <td>Starbucks</td>\n",
       "      <td>NaN</td>\n",
       "      <td>21380</td>\n",
       "      <td>0.086</td>\n",
       "      <td>15049</td>\n",
       "      <td>0.030</td>\n",
       "      <td>NaN</td>\n",
       "      <td>Quick Service &amp; Coffee Cafe</td>\n",
       "    </tr>\n",
       "    <tr>\n",
       "      <th>2</th>\n",
       "      <td>3</td>\n",
       "      <td>Chick-fil-A</td>\n",
       "      <td>While Popeyes got a lot of the chicken buzz in...</td>\n",
       "      <td>11320</td>\n",
       "      <td>0.130</td>\n",
       "      <td>2470</td>\n",
       "      <td>0.050</td>\n",
       "      <td>NaN</td>\n",
       "      <td>Quick Service &amp; Chicken</td>\n",
       "    </tr>\n",
       "    <tr>\n",
       "      <th>3</th>\n",
       "      <td>4</td>\n",
       "      <td>Taco Bell</td>\n",
       "      <td>NaN</td>\n",
       "      <td>11293</td>\n",
       "      <td>0.090</td>\n",
       "      <td>6766</td>\n",
       "      <td>0.027</td>\n",
       "      <td>NaN</td>\n",
       "      <td>Quick Service &amp; Mexican</td>\n",
       "    </tr>\n",
       "    <tr>\n",
       "      <th>4</th>\n",
       "      <td>5</td>\n",
       "      <td>Burger King</td>\n",
       "      <td>NaN</td>\n",
       "      <td>10204</td>\n",
       "      <td>0.027</td>\n",
       "      <td>7346</td>\n",
       "      <td>0.002</td>\n",
       "      <td>NaN</td>\n",
       "      <td>Quick Service &amp; Burger</td>\n",
       "    </tr>\n",
       "    <tr>\n",
       "      <th>...</th>\n",
       "      <td>...</td>\n",
       "      <td>...</td>\n",
       "      <td>...</td>\n",
       "      <td>...</td>\n",
       "      <td>...</td>\n",
       "      <td>...</td>\n",
       "      <td>...</td>\n",
       "      <td>...</td>\n",
       "      <td>...</td>\n",
       "    </tr>\n",
       "    <tr>\n",
       "      <th>245</th>\n",
       "      <td>246</td>\n",
       "      <td>Rainforest Cafe</td>\n",
       "      <td>NaN</td>\n",
       "      <td>129</td>\n",
       "      <td>-0.104</td>\n",
       "      <td>18</td>\n",
       "      <td>-0.053</td>\n",
       "      <td>NaN</td>\n",
       "      <td>Varied Menu</td>\n",
       "    </tr>\n",
       "    <tr>\n",
       "      <th>246</th>\n",
       "      <td>247</td>\n",
       "      <td>PDQ</td>\n",
       "      <td>NaN</td>\n",
       "      <td>127</td>\n",
       "      <td>-0.055</td>\n",
       "      <td>56</td>\n",
       "      <td>-0.111</td>\n",
       "      <td>NaN</td>\n",
       "      <td>Chicken</td>\n",
       "    </tr>\n",
       "    <tr>\n",
       "      <th>247</th>\n",
       "      <td>248</td>\n",
       "      <td>Lupe Tortilla</td>\n",
       "      <td>NaN</td>\n",
       "      <td>127</td>\n",
       "      <td>0.121</td>\n",
       "      <td>25</td>\n",
       "      <td>0.087</td>\n",
       "      <td>NaN</td>\n",
       "      <td>Mexican</td>\n",
       "    </tr>\n",
       "    <tr>\n",
       "      <th>248</th>\n",
       "      <td>249</td>\n",
       "      <td>Cook-Out Restaurant</td>\n",
       "      <td>NaN</td>\n",
       "      <td>126</td>\n",
       "      <td>0.101</td>\n",
       "      <td>270</td>\n",
       "      <td>0.071</td>\n",
       "      <td>NaN</td>\n",
       "      <td>Burger</td>\n",
       "    </tr>\n",
       "    <tr>\n",
       "      <th>249</th>\n",
       "      <td>250</td>\n",
       "      <td>Jollibee</td>\n",
       "      <td>NaN</td>\n",
       "      <td>126</td>\n",
       "      <td>0.152</td>\n",
       "      <td>40</td>\n",
       "      <td>0.111</td>\n",
       "      <td>NaN</td>\n",
       "      <td>Chicken</td>\n",
       "    </tr>\n",
       "  </tbody>\n",
       "</table>\n",
       "<p>250 rows × 9 columns</p>\n",
       "</div>"
      ],
      "text/plain": [
       "     Rank           Restaurant  \\\n",
       "0       1           McDonald's   \n",
       "1       2            Starbucks   \n",
       "2       3          Chick-fil-A   \n",
       "3       4            Taco Bell   \n",
       "4       5          Burger King   \n",
       "..    ...                  ...   \n",
       "245   246      Rainforest Cafe   \n",
       "246   247                  PDQ   \n",
       "247   248        Lupe Tortilla   \n",
       "248   249  Cook-Out Restaurant   \n",
       "249   250             Jollibee   \n",
       "\n",
       "                                               Content  Sales  YOY_Sales  \\\n",
       "0                                                  NaN  40412      0.049   \n",
       "1                                                  NaN  21380      0.086   \n",
       "2    While Popeyes got a lot of the chicken buzz in...  11320      0.130   \n",
       "3                                                  NaN  11293      0.090   \n",
       "4                                                  NaN  10204      0.027   \n",
       "..                                                 ...    ...        ...   \n",
       "245                                                NaN    129     -0.104   \n",
       "246                                                NaN    127     -0.055   \n",
       "247                                                NaN    127      0.121   \n",
       "248                                                NaN    126      0.101   \n",
       "249                                                NaN    126      0.152   \n",
       "\n",
       "     Units  YOY_Units Headquarters             Segment_Category  \n",
       "0    13846     -0.005          NaN       Quick Service & Burger  \n",
       "1    15049      0.030          NaN  Quick Service & Coffee Cafe  \n",
       "2     2470      0.050          NaN      Quick Service & Chicken  \n",
       "3     6766      0.027          NaN      Quick Service & Mexican  \n",
       "4     7346      0.002          NaN       Quick Service & Burger  \n",
       "..     ...        ...          ...                          ...  \n",
       "245     18     -0.053          NaN                  Varied Menu  \n",
       "246     56     -0.111          NaN                      Chicken  \n",
       "247     25      0.087          NaN                      Mexican  \n",
       "248    270      0.071          NaN                       Burger  \n",
       "249     40      0.111          NaN                      Chicken  \n",
       "\n",
       "[250 rows x 9 columns]"
      ]
     },
     "execution_count": 9,
     "metadata": {},
     "output_type": "execute_result"
    }
   ],
   "source": [
    "#use the code provided in the assignment to read the file\n",
    "filename = \"https://raw.githubusercontent.com/675874815/DAV-5401/master/Top251.csv\"\n",
    "re = pd.read_csv(filename)\n",
    "\n",
    "#show the framework\n",
    "re"
   ]
  },
  {
   "cell_type": "markdown",
   "metadata": {},
   "source": [
    "### Task: Designate Research Questions\n",
    "\n",
    "For this task, the dataset can be used to tell the story of what 2020 was like for restaurants, what was hot, what could be more popular soon, or what the difference is between large companies and smaller businesses. Answers to the following questions will help to inform the decision making a choice to eat in which restaurant:\n",
    "\n",
    "1. What is the correlation between sales and units?\n",
    "\n",
    "2. What is the distribution about the whole top250 restaurants' units during last year?\n",
    "\n",
    "3. According to the'Quick Service & Coffee Cafe' and 'Quick Service & Burger', which one had better sales last year?"
   ]
  },
  {
   "cell_type": "markdown",
   "metadata": {},
   "source": [
    "# Data Summary\n",
    "\n",
    "This data comes from the [Kaggle Data Sets.](https://www.kaggle.com/datasets) A description of the dataset can be found [here.](https://www.kaggle.com/michau96/restaurant-business-rankings-2020?select=Top250.csv)\n",
    "\n",
    "There are 9 attributes in this dataset:\n",
    "\n",
    "1. Rank: Position in ranking;\n",
    "\n",
    "2. Restaurant: Name of restaurant;\n",
    "\n",
    "3. Content: Description, only for certain restaurants;\n",
    "\n",
    "4. Sales: in 2019 ($000000);\n",
    "\n",
    "5. YOY_Sales: Year on year sales increase in %;\n",
    "\n",
    "6. Units: Number of premises in US;\n",
    "\n",
    "7. YOY_Units: Year on year premises increase in %;\n",
    "\n",
    "8. Headquarters: Place of the restaurant's headquarters;\n",
    "\n",
    "9. Segment_Category: Menu type and / or industry segment.\n",
    "\n",
    "The specific type of each data is below:"
   ]
  },
  {
   "cell_type": "code",
   "execution_count": 10,
   "metadata": {},
   "outputs": [
    {
     "name": "stdout",
     "output_type": "stream",
     "text": [
      "Rank                  int64\n",
      "Restaurant           object\n",
      "Content              object\n",
      "Sales                 int64\n",
      "YOY_Sales           float64\n",
      "Units                 int64\n",
      "YOY_Units           float64\n",
      "Headquarters         object\n",
      "Segment_Category     object\n",
      "dtype: object\n"
     ]
    }
   ],
   "source": [
    "print(re.dtypes)"
   ]
  },
  {
   "cell_type": "markdown",
   "metadata": {},
   "source": [
    "As we can see, the data types of Rank and Units are int64, the data types of Restauranr, Content, Headquarters and Segment_Category are object, the data types of YOY_Sales and YOY_Units are float64."
   ]
  },
  {
   "cell_type": "markdown",
   "metadata": {},
   "source": [
    "# Exploratory Data Analysis (EDA)\n",
    "\n",
    "Summary statistics for each attribute and appropriate graphical analysis for numerical attributes using both Matplotlib and Seaborn."
   ]
  },
  {
   "cell_type": "code",
   "execution_count": 11,
   "metadata": {},
   "outputs": [
    {
     "data": {
      "text/plain": [
       "count    250.000000\n",
       "mean     125.500000\n",
       "std       72.312977\n",
       "min        1.000000\n",
       "25%       63.250000\n",
       "50%      125.500000\n",
       "75%      187.750000\n",
       "max      250.000000\n",
       "Name: Rank, dtype: float64"
      ]
     },
     "execution_count": 11,
     "metadata": {},
     "output_type": "execute_result"
    }
   ],
   "source": [
    "#show the mean, standard deviation, minimum, and quartiles for Rank across all restaurants with no null values\n",
    "re['Rank'].describe()"
   ]
  },
  {
   "cell_type": "code",
   "execution_count": 12,
   "metadata": {},
   "outputs": [
    {
     "data": {
      "text/plain": [
       "count     250\n",
       "unique    250\n",
       "top       PDQ\n",
       "freq        1\n",
       "Name: Restaurant, dtype: object"
      ]
     },
     "execution_count": 12,
     "metadata": {},
     "output_type": "execute_result"
    }
   ],
   "source": [
    "#get descriptive stats for Reataurant\n",
    "re['Restaurant'].describe()"
   ]
  },
  {
   "cell_type": "code",
   "execution_count": 13,
   "metadata": {},
   "outputs": [
    {
     "data": {
      "text/plain": [
       "count                                                    33\n",
       "unique                                                   33\n",
       "top       The chain filed for bankruptcy in November and...\n",
       "freq                                                      1\n",
       "Name: Content, dtype: object"
      ]
     },
     "execution_count": 13,
     "metadata": {},
     "output_type": "execute_result"
    }
   ],
   "source": [
    "#get descriptive stats for Content\n",
    "re['Content'].describe()"
   ]
  },
  {
   "cell_type": "markdown",
   "metadata": {},
   "source": [
    "#### Preliminary Data Analysis - Sales\n",
    "\n",
    "Here we examine the distribution of sales. "
   ]
  },
  {
   "cell_type": "code",
   "execution_count": 14,
   "metadata": {},
   "outputs": [
    {
     "data": {
      "text/plain": [
       "count      250.00000\n",
       "mean      1242.74000\n",
       "std       3365.22882\n",
       "min        126.00000\n",
       "25%        181.00000\n",
       "50%        330.00000\n",
       "75%        724.75000\n",
       "max      40412.00000\n",
       "Name: Sales, dtype: float64"
      ]
     },
     "execution_count": 14,
     "metadata": {},
     "output_type": "execute_result"
    }
   ],
   "source": [
    "#show the mean, standard deviation, minimum, and quartiles for Sales across all restaurants with no null values\n",
    "re['Sales'].describe()"
   ]
  },
  {
   "cell_type": "code",
   "execution_count": 15,
   "metadata": {},
   "outputs": [
    {
     "data": {
      "image/png": "[encoded data removed]",
      "text/plain": [
       "<Figure size 432x288 with 2 Axes>"
      ]
     },
     "metadata": {
      "needs_background": "light"
     },
     "output_type": "display_data"
    }
   ],
   "source": [
    "# histogram of Sales data\n",
    "\n",
    "data = re['Sales']\n",
    "\n",
    "# define a new figure for plotting\n",
    "plt.figure(1)\n",
    "\n",
    "# define the plot that will appear on the lefthand side of the subplot:\n",
    "# the '121' value passed to the function says: \"I am defining a 1x2 arrangement\n",
    "# of subplots (as indicated by the first 2 digits '12'), and this is the \n",
    "# specification for the plot that will appear on the lefthand side (as indicated\n",
    "# by the last digit '1')\"\n",
    "plt.subplot(121)\n",
    "\n",
    "# define the plot you want to generate\n",
    "plt.hist(data)\n",
    "\n",
    "# define a title for the plot\n",
    "plt.title('Histogram of Sales')\n",
    "\n",
    "# --------------------------------------------------------------------------\n",
    "# now define the subplot that will appear on the righthand side of our 1x2\n",
    "# subplot ('122' = 1x2, position 2)\n",
    "plt.subplot(122)\n",
    "\n",
    "# define the type of plot you want to appear: set the number of bins\n",
    "# for the x axis to 10\n",
    "sns.histplot(data,bins=10)\n",
    "\n",
    "# give the plot a title\n",
    "plt.title('Histogram of Sales')\n",
    "\n",
    "# define a width between 2 subolots\n",
    "plt.subplots_adjust(wspace=0.4)\n",
    "\n",
    "plt.show();"
   ]
  },
  {
   "cell_type": "markdown",
   "metadata": {},
   "source": [
    "The above histogram and descriptive statistics show that the overall distribution of Sales is skewed to the right, with a mean of 1242.74 dollars, a minimum of 126 dollars, and a max of 40412. The histogram indicates that the average Sales are not high and that there are some outliers."
   ]
  },
  {
   "cell_type": "markdown",
   "metadata": {},
   "source": [
    "#### Preliminary Data Analysis - YOY_Sales\n",
    "\n",
    "Now we gather descriptive statistics on YOY_Sales and create a box and whisker plot to display these statistics in a visualization so that we can quickly identify the shape of the distribution."
   ]
  },
  {
   "cell_type": "code",
   "execution_count": 16,
   "metadata": {},
   "outputs": [
    {
     "data": {
      "text/plain": [
       "count    250.000000\n",
       "mean       0.029384\n",
       "std        0.089538\n",
       "min       -0.212000\n",
       "25%       -0.023750\n",
       "50%        0.022000\n",
       "75%        0.065750\n",
       "max        0.395000\n",
       "Name: YOY_Sales, dtype: float64"
      ]
     },
     "execution_count": 16,
     "metadata": {},
     "output_type": "execute_result"
    }
   ],
   "source": [
    "# show the mean, standard deviation, minimum, and quartiles for YOY_Sales across all restaurants with no null values\n",
    "re['YOY_Sales'].describe()"
   ]
  },
  {
   "cell_type": "code",
   "execution_count": 17,
   "metadata": {},
   "outputs": [
    {
     "name": "stderr",
     "output_type": "stream",
     "text": [
      "C:\\Users\\asus\\anaconda3\\lib\\site-packages\\seaborn\\_decorators.py:36: FutureWarning: Pass the following variable as a keyword arg: x. From version 0.12, the only valid positional argument will be `data`, and passing other arguments without an explicit keyword will result in an error or misinterpretation.\n",
      "  warnings.warn(\n",
      "C:\\Users\\asus\\anaconda3\\lib\\site-packages\\seaborn\\_core.py:1303: UserWarning: Vertical orientation ignored with only `x` specified.\n",
      "  warnings.warn(single_var_warning.format(\"Vertical\", \"x\"))\n"
     ]
    },
    {
     "data": {
      "image/png": "[encoded data removed]",
      "text/plain": [
       "<Figure size 432x288 with 2 Axes>"
      ]
     },
     "metadata": {
      "needs_background": "light"
     },
     "output_type": "display_data"
    }
   ],
   "source": [
    "# boxplot of YOY_Sales data\n",
    "\n",
    "data = re['YOY_Sales']\n",
    "\n",
    "# define a new figure for plotting\n",
    "plt.figure(1)\n",
    "\n",
    "# define the plot that will appear on the lefthand side of the subplot:\n",
    "# the '121' value passed to the function says: \"I am defining a 1x2 arrangement\n",
    "# of subplots (as indicated by the first 2 digits '12'), and this is the \n",
    "# specification for the plot that will appear on the lefthand side (as indicated\n",
    "# by the last digit '1')\"\n",
    "plt.subplot(121)\n",
    "\n",
    "# define the plot you want to generate\n",
    "plt.boxplot(data)\n",
    "\n",
    "# give the plot a title\n",
    "plt.title('Boxplot of YOY_Sales')\n",
    "\n",
    "# Here we'll blank out the x-axis label since it isn't really meaningful\n",
    "# for a box plot\n",
    "plt.xlabel(' ')\n",
    "\n",
    "# --------------------------------------------------------------------------\n",
    "# now define the subplot that will appear on the righthand side of our 1x2\n",
    "# subplot ('122' = 1x2, position 2)\n",
    "plt.subplot(122)\n",
    "\n",
    "# define the type of plot you want to appear\n",
    "sns.boxplot(data, orient = 'v')\n",
    "\n",
    "# give the plot a title\n",
    "plt.title('Boxplot of YOY_Sales')\n",
    "\n",
    "# Here we'll blank out the x-axis label since it isn't really meaningful\n",
    "# for a box plot\n",
    "plt.xlabel(' ')\n",
    "\n",
    "plt.show();"
   ]
  },
  {
   "cell_type": "markdown",
   "metadata": {},
   "source": [
    "We can see from the descriptive statistics that the distribution of YOY_Sales is skewed right with a mean of 2.94%, a minimum of -2.12%, a max of 39.5%, and a standard deviation of 0.09. Based on this information as well as the box and whisker plot, there do appear to be many outliers."
   ]
  },
  {
   "cell_type": "markdown",
   "metadata": {},
   "source": [
    "#### Preliminary Data Analysis - Units\n",
    "\n",
    "Here we examine the distribution of units. "
   ]
  },
  {
   "cell_type": "code",
   "execution_count": 18,
   "metadata": {},
   "outputs": [
    {
     "data": {
      "text/plain": [
       "count      250.000000\n",
       "mean       850.076000\n",
       "std       2296.151659\n",
       "min         13.000000\n",
       "25%         85.000000\n",
       "50%        207.000000\n",
       "75%        555.250000\n",
       "max      23801.000000\n",
       "Name: Units, dtype: float64"
      ]
     },
     "execution_count": 18,
     "metadata": {},
     "output_type": "execute_result"
    }
   ],
   "source": [
    "# show the mean, standard deviation, minimum, and quartiles for Units across all restaurants with no null values\n",
    "re['Units'].describe()"
   ]
  },
  {
   "cell_type": "code",
   "execution_count": 19,
   "metadata": {},
   "outputs": [
    {
     "data": {
      "image/png": "[encoded data removed]",
      "text/plain": [
       "<Figure size 432x288 with 2 Axes>"
      ]
     },
     "metadata": {
      "needs_background": "light"
     },
     "output_type": "display_data"
    }
   ],
   "source": [
    "# histogram of Units data\n",
    "\n",
    "data = re['Units']\n",
    "\n",
    "# define a new figure for plotting\n",
    "plt.figure(1)\n",
    "\n",
    "# define the plot that will appear on the lefthand side of the subplot:\n",
    "# the '121' value passed to the function says: \"I am defining a 1x2 arrangement\n",
    "# of subplots (as indicated by the first 2 digits '12'), and this is the \n",
    "# specification for the plot that will appear on the lefthand side (as indicated\n",
    "# by the last digit '1')\"\n",
    "plt.subplot(121)\n",
    "\n",
    "# define the plot you want to generate\n",
    "plt.hist(data)\n",
    "\n",
    "# define a title for the plot\n",
    "plt.title('Histogram of Units')\n",
    "\n",
    "# --------------------------------------------------------------------------\n",
    "# now define the subplot that will appear on the righthand side of our 1x2\n",
    "# subplot ('122' = 1x2, position 2)\n",
    "plt.subplot(122)\n",
    "\n",
    "# define the type of plot you want to appear: set the number of bins\n",
    "# for the x axis to 10\n",
    "sns.histplot(data,bins=10)\n",
    "\n",
    "# give the plot a title\n",
    "plt.title('Histogram of Units')\n",
    "\n",
    "# # define a width between 2 subolots\n",
    "plt.subplots_adjust(wspace=0.4)\n",
    "\n",
    "plt.show();"
   ]
  },
  {
   "cell_type": "markdown",
   "metadata": {},
   "source": [
    "The above histogram and descriptive statistics show that the overall distribution of Units is skewed to the right, with a mean of 850.08, a minimum of 13, and a max of 23801. The histogram indicates that the average Units are not high and that there are some outliers."
   ]
  },
  {
   "cell_type": "markdown",
   "metadata": {},
   "source": [
    "#### Preliminary Data Analysis - YOY_Units\n",
    "\n",
    "Now we gather descriptive statistics on YOY_Units and create a box and whisker plot to display these statistics in a visualization so that we can quickly identify the shape of the distribution."
   ]
  },
  {
   "cell_type": "code",
   "execution_count": 20,
   "metadata": {},
   "outputs": [
    {
     "data": {
      "text/plain": [
       "count    250.000000\n",
       "mean       0.012192\n",
       "std        0.079364\n",
       "min       -0.328000\n",
       "25%       -0.020250\n",
       "50%        0.000000\n",
       "75%        0.034750\n",
       "max        0.385000\n",
       "Name: YOY_Units, dtype: float64"
      ]
     },
     "execution_count": 20,
     "metadata": {},
     "output_type": "execute_result"
    }
   ],
   "source": [
    "# show the mean, standard deviation, minimum, and quartiles for Units across all restaurants with no null values\n",
    "re['YOY_Units'].describe()"
   ]
  },
  {
   "cell_type": "code",
   "execution_count": 21,
   "metadata": {},
   "outputs": [
    {
     "name": "stderr",
     "output_type": "stream",
     "text": [
      "C:\\Users\\asus\\anaconda3\\lib\\site-packages\\seaborn\\_decorators.py:36: FutureWarning: Pass the following variable as a keyword arg: x. From version 0.12, the only valid positional argument will be `data`, and passing other arguments without an explicit keyword will result in an error or misinterpretation.\n",
      "  warnings.warn(\n",
      "C:\\Users\\asus\\anaconda3\\lib\\site-packages\\seaborn\\_core.py:1303: UserWarning: Vertical orientation ignored with only `x` specified.\n",
      "  warnings.warn(single_var_warning.format(\"Vertical\", \"x\"))\n"
     ]
    },
    {
     "data": {
      "image/png": "[encoded data removed]",
      "text/plain": [
       "<Figure size 432x288 with 2 Axes>"
      ]
     },
     "metadata": {
      "needs_background": "light"
     },
     "output_type": "display_data"
    }
   ],
   "source": [
    "# boxplot of YOY_Units data\n",
    "\n",
    "data = re['YOY_Units']\n",
    "\n",
    "# define a new figure for plotting\n",
    "plt.figure(1)\n",
    "\n",
    "# define the plot that will appear on the lefthand side of the subplot:\n",
    "# the '121' value passed to the function says: \"I am defining a 1x2 arrangement\n",
    "# of subplots (as indicated by the first 2 digits '12'), and this is the \n",
    "# specification for the plot that will appear on the lefthand side (as indicated\n",
    "# by the last digit '1')\"\n",
    "plt.subplot(121)\n",
    "\n",
    "# define the plot you want to generate\n",
    "plt.boxplot(data)\n",
    "\n",
    "# give the plot a title\n",
    "plt.title('Boxplot of YOY_Units')\n",
    "\n",
    "# Here we'll blank out the x-axis label since it isn't really meaningful\n",
    "# for a box plot\n",
    "plt.xlabel(' ')\n",
    "\n",
    "# --------------------------------------------------------------------------\n",
    "# now define the subplot that will appear on the righthand side of our 1x2\n",
    "# subplot ('122' = 1x2, position 2)\n",
    "plt.subplot(122)\n",
    "\n",
    "# define the type of plot you want to appear\n",
    "sns.boxplot(data, orient = 'v')\n",
    "\n",
    "# give the plot a title\n",
    "plt.title('Boxplot of YOY_Units')\n",
    "\n",
    "# Here we'll blank out the x-axis label since it isn't really meaningful\n",
    "# for a box plot\n",
    "plt.xlabel(' ')\n",
    "\n",
    "plt.show();"
   ]
  },
  {
   "cell_type": "markdown",
   "metadata": {},
   "source": [
    "We can see from the descriptive statistics that the distribution of YOY_Units is skewed right with a mean of 1.22%, a minimum of -32.8%, a max of 38.5%, and a standard deviation of 0.08. Based on this information as well as the box and whisker plot, there do appear to be many outliers."
   ]
  },
  {
   "cell_type": "code",
   "execution_count": 22,
   "metadata": {},
   "outputs": [
    {
     "data": {
      "text/plain": [
       "count             52\n",
       "unique            39\n",
       "top       Dallas, TX\n",
       "freq               6\n",
       "Name: Headquarters, dtype: object"
      ]
     },
     "execution_count": 22,
     "metadata": {},
     "output_type": "execute_result"
    }
   ],
   "source": [
    "# get descriptive stats for Reataurant\n",
    "re['Headquarters'].describe()"
   ]
  },
  {
   "cell_type": "code",
   "execution_count": 23,
   "metadata": {},
   "outputs": [
    {
     "data": {
      "text/plain": [
       "count             250\n",
       "unique             48\n",
       "top       Varied Menu\n",
       "freq               22\n",
       "Name: Segment_Category, dtype: object"
      ]
     },
     "execution_count": 23,
     "metadata": {},
     "output_type": "execute_result"
    }
   ],
   "source": [
    "# get descriptive stats for Reataurant\n",
    "re['Segment_Category'].describe()"
   ]
  },
  {
   "cell_type": "markdown",
   "metadata": {},
   "source": [
    "# Inference"
   ]
  },
  {
   "cell_type": "markdown",
   "metadata": {},
   "source": [
    "### Question1: What is the correlation between sales and units."
   ]
  },
  {
   "cell_type": "markdown",
   "metadata": {},
   "source": [
    "The following processes were undertaken to answer the problem above:\n",
    "\n",
    "1. Get the descriptive stats about sales and Units,which will give us a initial sight of the data.\n",
    "\n",
    "2. Use scatter plot by Matplotlib to show the basic distribution about two variables.\n",
    "\n",
    "3. Use scatter plot by Seaborn to show the correlation between sales and units. "
   ]
  },
  {
   "cell_type": "markdown",
   "metadata": {},
   "source": [
    "Show the descriptive stats about 'Sales' and 'Units'"
   ]
  },
  {
   "cell_type": "code",
   "execution_count": 24,
   "metadata": {},
   "outputs": [
    {
     "data": {
      "text/plain": [
       "count      250.00000\n",
       "mean      1242.74000\n",
       "std       3365.22882\n",
       "min        126.00000\n",
       "25%        181.00000\n",
       "50%        330.00000\n",
       "75%        724.75000\n",
       "max      40412.00000\n",
       "Name: Sales, dtype: float64"
      ]
     },
     "execution_count": 24,
     "metadata": {},
     "output_type": "execute_result"
    }
   ],
   "source": [
    "# the descriptive statistics about the 'Sales'\n",
    "re['Sales'].describe()"
   ]
  },
  {
   "cell_type": "code",
   "execution_count": 25,
   "metadata": {},
   "outputs": [
    {
     "data": {
      "text/plain": [
       "count      250.000000\n",
       "mean       850.076000\n",
       "std       2296.151659\n",
       "min         13.000000\n",
       "25%         85.000000\n",
       "50%        207.000000\n",
       "75%        555.250000\n",
       "max      23801.000000\n",
       "Name: Units, dtype: float64"
      ]
     },
     "execution_count": 25,
     "metadata": {},
     "output_type": "execute_result"
    }
   ],
   "source": [
    "# the descriptive statistics about the 'Units'\n",
    "re['Units'].describe()"
   ]
  },
  {
   "cell_type": "markdown",
   "metadata": {},
   "source": [
    "Use Matplotlib to make a scatter plot to show the relation between two variables"
   ]
  },
  {
   "cell_type": "code",
   "execution_count": 27,
   "metadata": {},
   "outputs": [
    {
     "data": {
      "image/png": "[encoded data removed]",
      "text/plain": [
       "<Figure size 500x500 with 1 Axes>"
      ]
     },
     "metadata": {
      "needs_background": "light"
     },
     "output_type": "display_data"
    }
   ],
   "source": [
    "# combine these two attributes to make a scatter plot\n",
    "# show the relation by using matplotlib \n",
    "plt.figure(figsize=(5,5),dpi=100)\n",
    "plt.scatter(re['Sales'],re['Units'])\n",
    "plt.show();"
   ]
  },
  {
   "cell_type": "code",
   "execution_count": 28,
   "metadata": {},
   "outputs": [
    {
     "data": {
      "image/png": "[encoded data removed]",
      "text/plain": [
       "<Figure size 360x360 with 1 Axes>"
      ]
     },
     "metadata": {
      "needs_background": "light"
     },
     "output_type": "display_data"
    }
   ],
   "source": [
    "#Create a scatter plot with a auxiliary line to show the correlation\n",
    "sns.lmplot(x = 'Units', y ='Sales', data = re);"
   ]
  },
  {
   "cell_type": "markdown",
   "metadata": {},
   "source": [
    "As shown in the above descriptive stats and two scatter plots. We can know that the mean value of 'Sales' is 1242.74, there is a max value of 'Sales' is 40412, the 75th percentile is 724.75 and the standard deviations is 3365.23, which tells us that there are definitely outliers. The mean value of 'Units' is 850.076, there is a max value of 'Units' is 23801.00, the 75th percentile is 555.25, which also tells us there must be outliers. As the first figure show above, we can know that most data is gathered at the lower left part. There seems that two variables show a positive relationship. And when we looked at figure2 we can know about the line that the correlation between them is postive."
   ]
  },
  {
   "cell_type": "markdown",
   "metadata": {},
   "source": [
    "### Question2: What is the distribution about the whole top250 restaurants' YOY_Units during last year."
   ]
  },
  {
   "cell_type": "markdown",
   "metadata": {},
   "source": [
    "The following processes were undertaken to answer the problem above:\n",
    "\n",
    "1. Get the descriptive stats about 'YOY_Units'\n",
    "\n",
    "2. Use the seaborn to show the displot about 'YOY_Units.\n",
    "\n",
    "3. Use the Matplotlib to show the histogram  about the 'YOY_Units' and then get the results."
   ]
  },
  {
   "cell_type": "markdown",
   "metadata": {},
   "source": [
    "Show the descriptive stats about 'YOY_Units'"
   ]
  },
  {
   "cell_type": "code",
   "execution_count": 29,
   "metadata": {},
   "outputs": [
    {
     "data": {
      "text/plain": [
       "count    250.000000\n",
       "mean       0.012192\n",
       "std        0.079364\n",
       "min       -0.328000\n",
       "25%       -0.020250\n",
       "50%        0.000000\n",
       "75%        0.034750\n",
       "max        0.385000\n",
       "Name: YOY_Units, dtype: float64"
      ]
     },
     "execution_count": 29,
     "metadata": {},
     "output_type": "execute_result"
    }
   ],
   "source": [
    "# the descriptive statistics about the 'YOY_Units'\n",
    "re['YOY_Units'].describe()"
   ]
  },
  {
   "cell_type": "markdown",
   "metadata": {},
   "source": [
    "Use Seaborn to make a displot to show the distribution about 'YOY_Units'"
   ]
  },
  {
   "cell_type": "code",
   "execution_count": 30,
   "metadata": {},
   "outputs": [
    {
     "name": "stderr",
     "output_type": "stream",
     "text": [
      "C:\\Users\\asus\\anaconda3\\lib\\site-packages\\seaborn\\distributions.py:2551: FutureWarning: `distplot` is a deprecated function and will be removed in a future version. Please adapt your code to use either `displot` (a figure-level function with similar flexibility) or `histplot` (an axes-level function for histograms).\n",
      "  warnings.warn(msg, FutureWarning)\n"
     ]
    },
    {
     "data": {
      "image/png": "[encoded data removed]",
      "text/plain": [
       "<Figure size 432x288 with 1 Axes>"
      ]
     },
     "metadata": {
      "needs_background": "light"
     },
     "output_type": "display_data"
    }
   ],
   "source": [
    "# use the seaborn to show the displot of 'YOY_Units'\n",
    "sns.distplot(re['YOY_Units'],bins=10);"
   ]
  },
  {
   "cell_type": "code",
   "execution_count": 31,
   "metadata": {},
   "outputs": [
    {
     "data": {
      "image/png": "[encoded data removed]",
      "text/plain": [
       "<Figure size 432x288 with 1 Axes>"
      ]
     },
     "metadata": {
      "needs_background": "light"
     },
     "output_type": "display_data"
    }
   ],
   "source": [
    "# create a histogram about 'YOY_Units' by matplotlib\n",
    "plt.hist(re['YOY_Units']);"
   ]
  },
  {
   "cell_type": "markdown",
   "metadata": {},
   "source": [
    "As shown in the above descriptive stats and  displot and line chart. We can know that the mean value of the 'YOY_Units' is 0.012192 with a min  value is -0.3280 and the max value is 0.385,the standard deviation is  0.079364. The 3 standard deviations above the mean would be nearly 0.25, so there definitely exists outliers. As first figure show that the whole distribution can be seen as a normal distribution."
   ]
  },
  {
   "cell_type": "markdown",
   "metadata": {},
   "source": [
    "### Question3: According to the'Quick Service & Coffee Cafe' and 'Quick Service & Burger', which one had better sales last year. "
   ]
  },
  {
   "cell_type": "markdown",
   "metadata": {},
   "source": [
    "The following processes were undertaken to answer the problem above:\n",
    "\n",
    "1. Set up a new subset that contains two main attributes including'Quick Service & Coffee Cafe' and 'Quick Service & Burger'\n",
    "\n",
    "2. Get the descriptive stats about the new subset.\n",
    "\n",
    "3. Use matplotlib to show the boxplot about this data.\n",
    "\n",
    "4. Use seaborn to show the boxplot about this data and get conclusion."
   ]
  },
  {
   "cell_type": "markdown",
   "metadata": {},
   "source": [
    "Set up a new dataset contains two main attributes"
   ]
  },
  {
   "cell_type": "code",
   "execution_count": 32,
   "metadata": {},
   "outputs": [],
   "source": [
    "# set up different dataset in order to show their describe data\n",
    "re2=re[(re['Segment_Category']=='Quick Service & Coffee Cafe')|(re['Segment_Category']=='Quick Service & Burger')]\n",
    "re3=re[re['Segment_Category']=='Quick Service & Coffee Cafe']\n",
    "re4=re[re['Segment_Category']=='Quick Service & Burger']"
   ]
  },
  {
   "cell_type": "markdown",
   "metadata": {},
   "source": [
    "Show the descriptive stats about 'Sales'"
   ]
  },
  {
   "cell_type": "code",
   "execution_count": 33,
   "metadata": {},
   "outputs": [
    {
     "data": {
      "text/plain": [
       "count       17.000000\n",
       "mean      6545.470588\n",
       "std      10307.314800\n",
       "min        535.000000\n",
       "25%        950.000000\n",
       "50%       2020.000000\n",
       "75%       9228.000000\n",
       "max      40412.000000\n",
       "Name: Sales, dtype: float64"
      ]
     },
     "execution_count": 33,
     "metadata": {},
     "output_type": "execute_result"
    }
   ],
   "source": [
    "# the descriptive statistics about the sales of two categories.\n",
    "re2['Sales'].describe()"
   ]
  },
  {
   "cell_type": "code",
   "execution_count": 34,
   "metadata": {},
   "outputs": [
    {
     "data": {
      "text/plain": [
       "count        4.000000\n",
       "mean      7972.250000\n",
       "std       9812.654903\n",
       "min        567.000000\n",
       "25%        677.250000\n",
       "50%       4971.000000\n",
       "75%      12266.000000\n",
       "max      21380.000000\n",
       "Name: Sales, dtype: float64"
      ]
     },
     "execution_count": 34,
     "metadata": {},
     "output_type": "execute_result"
    }
   ],
   "source": [
    "# the Descriptive statistics about the sales of 'Quick Service & Coffee Cafe'\n",
    "re3['Sales'].describe()"
   ]
  },
  {
   "cell_type": "code",
   "execution_count": 35,
   "metadata": {},
   "outputs": [
    {
     "data": {
      "text/plain": [
       "count       13.000000\n",
       "mean      6106.461538\n",
       "std      10802.541951\n",
       "min        535.000000\n",
       "25%        957.000000\n",
       "50%       2020.000000\n",
       "75%       4687.000000\n",
       "max      40412.000000\n",
       "Name: Sales, dtype: float64"
      ]
     },
     "execution_count": 35,
     "metadata": {},
     "output_type": "execute_result"
    }
   ],
   "source": [
    "# the Descriptive statistics about the sales of 'Quick Service & Burger'\n",
    "re4['Sales'].describe()"
   ]
  },
  {
   "cell_type": "markdown",
   "metadata": {},
   "source": [
    "Use matplotlib to show the boxplot about this data."
   ]
  },
  {
   "cell_type": "code",
   "execution_count": 36,
   "metadata": {},
   "outputs": [
    {
     "data": {
      "image/png": "[encoded data removed]",
      "text/plain": [
       "<Figure size 432x288 with 1 Axes>"
      ]
     },
     "metadata": {
      "needs_background": "light"
     },
     "output_type": "display_data"
    }
   ],
   "source": [
    "# use the matplotlib to create a boxplot to show the sales of two categories. \n",
    "re2.boxplot(column='Sales',by='Segment_Category');"
   ]
  },
  {
   "cell_type": "code",
   "execution_count": 37,
   "metadata": {},
   "outputs": [
    {
     "data": {
      "text/plain": [
       "<seaborn.axisgrid.FacetGrid at 0x205b3600d30>"
      ]
     },
     "execution_count": 37,
     "metadata": {},
     "output_type": "execute_result"
    },
    {
     "data": {
      "image/png": "[encoded data removed]",
      "text/plain": [
       "<Figure size 360x360 with 1 Axes>"
      ]
     },
     "metadata": {
      "needs_background": "light"
     },
     "output_type": "display_data"
    }
   ],
   "source": [
    "# use seaborn to create a boxplot to show the sales of two categories\n",
    "sns.catplot(x='Segment_Category', y='Sales',kind='box', data=re2);"
   ]
  },
  {
   "cell_type": "markdown",
   "metadata": {},
   "source": [
    "As shown in the above descriptive stats and boxplots, we can know that the mean 'sales of 'Quick Service & Coffee Cafe'is 7972.25 and the mean of 'sales of Quick Service & Burger' is 6106.46. As two plots showed above,we can know that the Coffee Cafe have better sales than Burger do. But the max sales' value of Burger and the Coffee Cafe's max value is 21380,which means the restaurants of Burger have a big boss to attract more people to buy their commodities. Also the difference about the mean value show that most of people will choose Coffee Cafe."
   ]
  },
  {
   "cell_type": "markdown",
   "metadata": {},
   "source": [
    "# Conclusion"
   ]
  },
  {
   "cell_type": "markdown",
   "metadata": {},
   "source": [
    "According to the results of three questions, we may get a brief conclusion about above research. The correlation between sales and units can be seen as positive. When the units increase, sales will also increase to a certain extent. We can also consider the contribution about in the comparison of sales between the 'Quick Service & Burger'and 'Quick Service & Coffee Cafe', we can know that Coffee Cafe behave  better but the max outlier of Burger is higher. Although under the attack about COVID-19, these top250 restaurants still showed the positive attitudes towards it and get a lot of developments."
   ]
  },
  {
   "cell_type": "markdown",
   "metadata": {},
   "source": [
    "# References"
   ]
  },
  {
   "cell_type": "markdown",
   "metadata": {},
   "source": [
    "Wes McKinney, Python for Data Analysis, 2nd edition, O’Reilly.  2018. \n",
    "\n",
    "Yang Yang,Hongbo Liu,Xiang Chen,COVID-19 and restaurant demand: early effects of the pandemic and stay-at-home orders, 2020."
   ]
  },
  {
   "cell_type": "code",
   "execution_count": null,
   "metadata": {},
   "outputs": [],
   "source": []
  }
 ],
 "metadata": {
  "kernelspec": {
   "display_name": "Python 3",
   "language": "python",
   "name": "python3"
  },
  "language_info": {
   "codemirror_mode": {
    "name": "ipython",
    "version": 3
   },
   "file_extension": ".py",
   "mimetype": "text/x-python",
   "name": "python",
   "nbconvert_exporter": "python",
   "pygments_lexer": "ipython3",
   "version": "3.8.5"
  }
 },
 "nbformat": 4,
 "nbformat_minor": 4
}
