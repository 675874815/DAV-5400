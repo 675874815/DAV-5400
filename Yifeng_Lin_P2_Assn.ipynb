{
 "cells": [
  {
   "cell_type": "markdown",
   "metadata": {},
   "source": [
    "## DAV 5400 Project 2 (M9)\n",
    "Working with HTML, JSON, Web Scraping, and Web APIs"
   ]
  },
  {
   "cell_type": "markdown",
   "metadata": {},
   "source": [
    "# Part I: Working with HTML and JSON"
   ]
  },
  {
   "cell_type": "code",
   "execution_count": 78,
   "metadata": {},
   "outputs": [],
   "source": [
    "# load pandas\n",
    "import pandas as pd"
   ]
  },
  {
   "cell_type": "markdown",
   "metadata": {},
   "source": [
    "## 1. HTML"
   ]
  },
  {
   "cell_type": "code",
   "execution_count": 86,
   "metadata": {},
   "outputs": [],
   "source": [
    "# read an HTML file\n",
    "books1 = pd.read_html('https://raw.githubusercontent.com/675874815/DAV-5401/master/books.html')"
   ]
  },
  {
   "cell_type": "code",
   "execution_count": 87,
   "metadata": {},
   "outputs": [
    {
     "data": {
      "text/html": [
       "<div>\n",
       "<style scoped>\n",
       "    .dataframe tbody tr th:only-of-type {\n",
       "        vertical-align: middle;\n",
       "    }\n",
       "\n",
       "    .dataframe tbody tr th {\n",
       "        vertical-align: top;\n",
       "    }\n",
       "\n",
       "    .dataframe thead th {\n",
       "        text-align: right;\n",
       "    }\n",
       "</style>\n",
       "<table border=\"1\" class=\"dataframe\">\n",
       "  <thead>\n",
       "    <tr style=\"text-align: right;\">\n",
       "      <th></th>\n",
       "      <th>Title</th>\n",
       "      <th>Authors</th>\n",
       "      <th>Words</th>\n",
       "      <th>Publication Time</th>\n",
       "    </tr>\n",
       "  </thead>\n",
       "  <tbody>\n",
       "    <tr>\n",
       "      <th>0</th>\n",
       "      <td>Gone with the Wind</td>\n",
       "      <td>Margaret Mitchell</td>\n",
       "      <td>800000</td>\n",
       "      <td>1930</td>\n",
       "    </tr>\n",
       "    <tr>\n",
       "      <th>1</th>\n",
       "      <td>Dream of the Red Chamber</td>\n",
       "      <td>Xueqin Cao, Anonymous</td>\n",
       "      <td>960000</td>\n",
       "      <td>1791</td>\n",
       "    </tr>\n",
       "    <tr>\n",
       "      <th>2</th>\n",
       "      <td>War and Peace</td>\n",
       "      <td>Lev Nikolaevich Tolstoy</td>\n",
       "      <td>1094000</td>\n",
       "      <td>1869</td>\n",
       "    </tr>\n",
       "  </tbody>\n",
       "</table>\n",
       "</div>"
      ],
      "text/plain": [
       "                      Title                  Authors    Words  \\\n",
       "0        Gone with the Wind        Margaret Mitchell   800000   \n",
       "1  Dream of the Red Chamber    Xueqin Cao, Anonymous   960000   \n",
       "2             War and Peace  Lev Nikolaevich Tolstoy  1094000   \n",
       "\n",
       "   Publication Time  \n",
       "0              1930  \n",
       "1              1791  \n",
       "2              1869  "
      ]
     },
     "execution_count": 87,
     "metadata": {},
     "output_type": "execute_result"
    }
   ],
   "source": [
    "# the first item is a data frame\n",
    "books1[0]"
   ]
  },
  {
   "cell_type": "markdown",
   "metadata": {},
   "source": [
    "## 2. JSON"
   ]
  },
  {
   "cell_type": "code",
   "execution_count": 88,
   "metadata": {},
   "outputs": [
    {
     "data": {
      "text/html": [
       "<div>\n",
       "<style scoped>\n",
       "    .dataframe tbody tr th:only-of-type {\n",
       "        vertical-align: middle;\n",
       "    }\n",
       "\n",
       "    .dataframe tbody tr th {\n",
       "        vertical-align: top;\n",
       "    }\n",
       "\n",
       "    .dataframe thead th {\n",
       "        text-align: right;\n",
       "    }\n",
       "</style>\n",
       "<table border=\"1\" class=\"dataframe\">\n",
       "  <thead>\n",
       "    <tr style=\"text-align: right;\">\n",
       "      <th></th>\n",
       "      <th>Title</th>\n",
       "      <th>Authors</th>\n",
       "      <th>Words</th>\n",
       "      <th>Publication Time</th>\n",
       "    </tr>\n",
       "  </thead>\n",
       "  <tbody>\n",
       "    <tr>\n",
       "      <th>0</th>\n",
       "      <td>Gone with the Wind</td>\n",
       "      <td>Margaret Mitchell</td>\n",
       "      <td>800000</td>\n",
       "      <td>1930</td>\n",
       "    </tr>\n",
       "    <tr>\n",
       "      <th>1</th>\n",
       "      <td>Dream of the Red Chamber</td>\n",
       "      <td>[Xueqin Cao, Anonymous]</td>\n",
       "      <td>960000</td>\n",
       "      <td>1791</td>\n",
       "    </tr>\n",
       "    <tr>\n",
       "      <th>2</th>\n",
       "      <td>War and Peace</td>\n",
       "      <td>Lev Nikolaevich Tolstoy</td>\n",
       "      <td>1094000</td>\n",
       "      <td>1869</td>\n",
       "    </tr>\n",
       "  </tbody>\n",
       "</table>\n",
       "</div>"
      ],
      "text/plain": [
       "                      Title                  Authors    Words  \\\n",
       "0        Gone with the Wind        Margaret Mitchell   800000   \n",
       "1  Dream of the Red Chamber  [Xueqin Cao, Anonymous]   960000   \n",
       "2             War and Peace  Lev Nikolaevich Tolstoy  1094000   \n",
       "\n",
       "   Publication Time  \n",
       "0              1930  \n",
       "1              1791  \n",
       "2              1869  "
      ]
     },
     "execution_count": 88,
     "metadata": {},
     "output_type": "execute_result"
    }
   ],
   "source": [
    "# convert properly formatted JSON data into a Pandas dataframe\n",
    "books2 = pd.read_json('https://raw.githubusercontent.com/675874815/DAV-5401/master/books.json')\n",
    "books2"
   ]
  },
  {
   "cell_type": "markdown",
   "metadata": {},
   "source": [
    "# Part II (40 points): Scraping the Katz School’s AI Faculty Web Page"
   ]
  },
  {
   "cell_type": "code",
   "execution_count": 45,
   "metadata": {},
   "outputs": [],
   "source": [
    "# Import the necessary libraries\n",
    "import requests \n",
    "from bs4 import BeautifulSoup\n",
    "import pandas"
   ]
  },
  {
   "cell_type": "code",
   "execution_count": 46,
   "metadata": {},
   "outputs": [],
   "source": [
    "# Download the web page\n",
    "page = requests.get(\"https://www.yu.edu/katz/programs/graduate/artificial-intelligence/faculty\")\n",
    "# Create a BeautifulSoup class to parse the page\n",
    "soup = BeautifulSoup(page.content, 'html.parser')\n",
    "# Find the div with class main_content, and assign to faulty\n",
    "faulty = soup.find(class_=\"main-content\")"
   ]
  },
  {
   "cell_type": "code",
   "execution_count": 47,
   "metadata": {},
   "outputs": [],
   "source": [
    "# Inside faulty, find each individual faulty item.\n",
    "faulty_items = faulty.find_all(class_=\"body\")"
   ]
  },
  {
   "cell_type": "code",
   "execution_count": 48,
   "metadata": {},
   "outputs": [
    {
     "data": {
      "text/plain": [
       "['Paul Russo, Ph.D. Vice Provost and Dean',\n",
       " 'Andy Catlin, Program Director, Data Analytics and Visualization',\n",
       " 'Wonjun Lee, Assistant Professor, Artificial Intelligence',\n",
       " 'Sergey Fogelson, Instructor',\n",
       " 'Lawrence Fulton, Instructor',\n",
       " 'Jeff Nieman, Instructor']"
      ]
     },
     "execution_count": 48,
     "metadata": {},
     "output_type": "execute_result"
    }
   ],
   "source": [
    "# Select all items within h5 tags in faulty.\n",
    "nt_tags = faulty.select(\"h5\")\n",
    "nt = [n.get_text() for n in nt_tags]\n",
    "nt"
   ]
  },
  {
   "cell_type": "code",
   "execution_count": 49,
   "metadata": {},
   "outputs": [],
   "source": [
    "# create 2 empty lists\n",
    "name = [] \n",
    "title = []\n",
    "# use a for loop to add relative items in each list \n",
    "for e in nt: \n",
    "    name.append(e.split(',',1)[0])\n",
    "    title.append(e.split(',',1)[1]) "
   ]
  },
  {
   "cell_type": "code",
   "execution_count": 50,
   "metadata": {},
   "outputs": [
    {
     "data": {
      "text/plain": [
       "['Paul Russo',\n",
       " 'Andy Catlin',\n",
       " 'Wonjun Lee',\n",
       " 'Sergey Fogelson',\n",
       " 'Lawrence Fulton',\n",
       " 'Jeff Nieman']"
      ]
     },
     "execution_count": 50,
     "metadata": {},
     "output_type": "execute_result"
    }
   ],
   "source": [
    "# show the name list\n",
    "names"
   ]
  },
  {
   "cell_type": "code",
   "execution_count": 51,
   "metadata": {},
   "outputs": [
    {
     "data": {
      "text/plain": [
       "[' Ph.D. Vice Provost and Dean',\n",
       " ' Program Director, Data Analytics and Visualization',\n",
       " ' Assistant Professor, Artificial Intelligence',\n",
       " ' Instructor',\n",
       " ' Instructor',\n",
       " ' Instructor']"
      ]
     },
     "execution_count": 51,
     "metadata": {},
     "output_type": "execute_result"
    }
   ],
   "source": [
    "# show the title list\n",
    "title"
   ]
  },
  {
   "cell_type": "code",
   "execution_count": 52,
   "metadata": {},
   "outputs": [
    {
     "data": {
      "text/plain": [
       "['Recent research examines computational methods in social networks and mobile applications by developing and empirically evaluating causal models. Studies focus on social sharing in online communities that are influenced by user motivations, trust, and network properties. This computational social science on the web promises to improve AI algorithms on platforms like Facebook, Instagram, Google Maps, and Tinder. In earlier projects, such as those at Texas Instruments, used Pattern Analysis and Machine Intelligence methods—e.g., clustering and Horn&Schunk algorithm—for image and streaming video analysis for machine vision and tracking moving objects. Other projects have bridged engineering and physics methods to build data collection systems that identify particles emitted as deep space materials degrade. Ethnographic studies in the use of technology in distributed science collaborations. Active peer reviewer. Co-PI for a $15M award to create the CUNY Center for Big Data.',\n",
       " 'Teaches graduate courses in Social Computing, Digital Media, Information Systems, Technology Entrepreneurship, Organizational Behavior, and thesis supervision.',\n",
       " 'Data scientist and data system developer with expertise in financial instrument pricing and forecasting using weighted Black Scholes Merton model as well as incorporating yield curve analysis into emerging markets products. Recent projects focus on real time market feeds and server-based cascading triggers as well as migrating client-server systems into web and cloud hosted solutions. Previous projects focused on incorporating artificial intelligence and neural networks in specialized applications; C++ financial libraries; security authentication bottleneck correction; patient-days forecasting model using Box Jenkins;\\xa0production replication architectures; and multi-phase commit and log-shipping architectures. Founder of multiple tech startups, including the Hudson Technology Group (acquired by Incepta), which served major clients including Fidelity Investments; Smart Money; Donaldson, Lufkin and Jenrette (DLJ); Manufacturers Hanover Trust; National Football League; and The Wall Street Journal.',\n",
       " 'Teaches graduate\\xa0courses in Analytics Programming, Recommendation Systems, Regression Modeling, Network Analysis, Natural Language Processing, and Neural Networks.',\n",
       " 'Recent research focuses on designing AI-based analytics platforms that provide intelligent analysis capability across disciplines. Currently developing knowledge-based response systems for information and communication systems (ICS) inspired by human immunology. Developing AI analytics platforms in collaboration with researchers from NOAA, University of Texas at San Antonio, Auburn University, and University of Georgia. Previous research at University of Texas at San Antonio applied deep learning models, including recurrent and convolutional neural networks, to existing research areas, such as the analysis of malign network traffic and privacy issues of Internet of Things (IoT) home devices. As a principal researcher at Samsung, focused on cybersecurity in mobile app penetration and cloud computing assessment.',\n",
       " 'Teaches graduate courses in Security Analytics, Neural Network and Deep Learning, Information Security, and System Programming.',\n",
       " 'Data scientist and data product architect with expertise in media and advertising-related pricing, scheduling, and forecasting, and in large-scale anonymized identity models. Major projects have included building petabyte-scale data warehouses for media asset management and consumption analysis use-cases; fault-tolerant data products utilizing human-in-the-loop machine learning algorithms for back-office financial applications; and risk-scoring algorithms for 3rd-party cybersecurity vendor risk management. Doctoral research examined hierarchical category learning mechanisms in the visual system utilizing supervised learning algorithms applied to functional magnetic resonance imaging (fMRI) data.',\n",
       " 'Teaches graduate\\xa0courses in Computational Statistics, Linear Algebra, and Machine Learning.',\n",
       " 'Health data scientist with expertise in machine learning for image recognition, especially applied to 4D MRIs, and in healthcare simulation in Java, PySim, RSimmer, and ProModel.\\xa0 Current research focuses on the use of mathematical programming for improving health system performance in the areas of cost, quality, and access. Previous work focused on the application of artificial intelligence and neural networks in specialized applications, the use of Python and R applications to health data science problems, and the application of hierarchical forecasting models using both imagery and time series data simultaneously. Published in over 70 peer-reviewed journals.',\n",
       " 'Teaches graduate courses in Data Analytics, Machine Learning, and Structured Data Management.',\n",
       " 'Data scientist and project manager with expertise in visualization and predictive modeling for Fortune 500 companies, including Ford and Cisco.\\xa0Current work involves building systems engineering and model governance and support approaches using open source and COTS software like Alteryx, Qlik, Tableau and DataRobot. Led initiative to leverage data science optimization across complex server ecosystems, increasing server performance and minimizing risk through automated system and usage monitoring. Other key projects have included automating quoting for service renewals, tracking quoting and booking against opportunity data, enabling users to embed snapshots of visualizations in email notifications, and developing a major app for all Ford drivers.\\xa0',\n",
       " 'Teaches graduate courses in Predictive Modeling, Mathematics, Statistics, Machine Learning, and Project Management.']"
      ]
     },
     "execution_count": 52,
     "metadata": {},
     "output_type": "execute_result"
    }
   ],
   "source": [
    "# Select all items within p tags in faulty.\n",
    "bt = [b.get_text() for b in faulty.select(\"p\")]\n",
    "bt"
   ]
  },
  {
   "cell_type": "code",
   "execution_count": 57,
   "metadata": {},
   "outputs": [
    {
     "data": {
      "text/plain": [
       "['Recent research examines computational methods in social networks and mobile applications by developing and empirically evaluating causal models. Studies focus on social sharing in online communities that are influenced by user motivations, trust, and network properties. This computational social science on the web promises to improve AI algorithms on platforms like Facebook, Instagram, Google Maps, and Tinder. In earlier projects, such as those at Texas Instruments, used Pattern Analysis and Machine Intelligence methods—e.g., clustering and Horn&Schunk algorithm—for image and streaming video analysis for machine vision and tracking moving objects. Other projects have bridged engineering and physics methods to build data collection systems that identify particles emitted as deep space materials degrade. Ethnographic studies in the use of technology in distributed science collaborations. Active peer reviewer. Co-PI for a $15M award to create the CUNY Center for Big Data.',\n",
       " 'Data scientist and data system developer with expertise in financial instrument pricing and forecasting using weighted Black Scholes Merton model as well as incorporating yield curve analysis into emerging markets products. Recent projects focus on real time market feeds and server-based cascading triggers as well as migrating client-server systems into web and cloud hosted solutions. Previous projects focused on incorporating artificial intelligence and neural networks in specialized applications; C++ financial libraries; security authentication bottleneck correction; patient-days forecasting model using Box Jenkins;\\xa0production replication architectures; and multi-phase commit and log-shipping architectures. Founder of multiple tech startups, including the Hudson Technology Group (acquired by Incepta), which served major clients including Fidelity Investments; Smart Money; Donaldson, Lufkin and Jenrette (DLJ); Manufacturers Hanover Trust; National Football League; and The Wall Street Journal.',\n",
       " 'Recent research focuses on designing AI-based analytics platforms that provide intelligent analysis capability across disciplines. Currently developing knowledge-based response systems for information and communication systems (ICS) inspired by human immunology. Developing AI analytics platforms in collaboration with researchers from NOAA, University of Texas at San Antonio, Auburn University, and University of Georgia. Previous research at University of Texas at San Antonio applied deep learning models, including recurrent and convolutional neural networks, to existing research areas, such as the analysis of malign network traffic and privacy issues of Internet of Things (IoT) home devices. As a principal researcher at Samsung, focused on cybersecurity in mobile app penetration and cloud computing assessment.',\n",
       " 'Data scientist and data product architect with expertise in media and advertising-related pricing, scheduling, and forecasting, and in large-scale anonymized identity models. Major projects have included building petabyte-scale data warehouses for media asset management and consumption analysis use-cases; fault-tolerant data products utilizing human-in-the-loop machine learning algorithms for back-office financial applications; and risk-scoring algorithms for 3rd-party cybersecurity vendor risk management. Doctoral research examined hierarchical category learning mechanisms in the visual system utilizing supervised learning algorithms applied to functional magnetic resonance imaging (fMRI) data.',\n",
       " 'Health data scientist with expertise in machine learning for image recognition, especially applied to 4D MRIs, and in healthcare simulation in Java, PySim, RSimmer, and ProModel.\\xa0 Current research focuses on the use of mathematical programming for improving health system performance in the areas of cost, quality, and access. Previous work focused on the application of artificial intelligence and neural networks in specialized applications, the use of Python and R applications to health data science problems, and the application of hierarchical forecasting models using both imagery and time series data simultaneously. Published in over 70 peer-reviewed journals.',\n",
       " 'Data scientist and project manager with expertise in visualization and predictive modeling for Fortune 500 companies, including Ford and Cisco.\\xa0Current work involves building systems engineering and model governance and support approaches using open source and COTS software like Alteryx, Qlik, Tableau and DataRobot. Led initiative to leverage data science optimization across complex server ecosystems, increasing server performance and minimizing risk through automated system and usage monitoring. Other key projects have included automating quoting for service renewals, tracking quoting and booking against opportunity data, enabling users to embed snapshots of visualizations in email notifications, and developing a major app for all Ford drivers.\\xa0']"
      ]
     },
     "execution_count": 57,
     "metadata": {},
     "output_type": "execute_result"
    }
   ],
   "source": [
    "# show the bio list\n",
    "bio = bt[::2]\n",
    "bio"
   ]
  },
  {
   "cell_type": "code",
   "execution_count": 66,
   "metadata": {},
   "outputs": [],
   "source": [
    "# create an empty list\n",
    "teaching_background = []\n",
    "# use a for loop to add relative items\n",
    "for i in range(1,12,2):\n",
    "    teaching_background.append(bt[i])"
   ]
  },
  {
   "cell_type": "code",
   "execution_count": 67,
   "metadata": {},
   "outputs": [
    {
     "data": {
      "text/plain": [
       "['Teaches graduate courses in Social Computing, Digital Media, Information Systems, Technology Entrepreneurship, Organizational Behavior, and thesis supervision.',\n",
       " 'Teaches graduate\\xa0courses in Analytics Programming, Recommendation Systems, Regression Modeling, Network Analysis, Natural Language Processing, and Neural Networks.',\n",
       " 'Teaches graduate courses in Security Analytics, Neural Network and Deep Learning, Information Security, and System Programming.',\n",
       " 'Teaches graduate\\xa0courses in Computational Statistics, Linear Algebra, and Machine Learning.',\n",
       " 'Teaches graduate courses in Data Analytics, Machine Learning, and Structured Data Management.',\n",
       " 'Teaches graduate courses in Predictive Modeling, Mathematics, Statistics, Machine Learning, and Project Management.']"
      ]
     },
     "execution_count": 67,
     "metadata": {},
     "output_type": "execute_result"
    }
   ],
   "source": [
    "# show the list\n",
    "teaching_background"
   ]
  },
  {
   "cell_type": "code",
   "execution_count": 69,
   "metadata": {},
   "outputs": [
    {
     "data": {
      "text/html": [
       "<div>\n",
       "<style scoped>\n",
       "    .dataframe tbody tr th:only-of-type {\n",
       "        vertical-align: middle;\n",
       "    }\n",
       "\n",
       "    .dataframe tbody tr th {\n",
       "        vertical-align: top;\n",
       "    }\n",
       "\n",
       "    .dataframe thead th {\n",
       "        text-align: right;\n",
       "    }\n",
       "</style>\n",
       "<table border=\"1\" class=\"dataframe\">\n",
       "  <thead>\n",
       "    <tr style=\"text-align: right;\">\n",
       "      <th></th>\n",
       "      <th>name</th>\n",
       "      <th>title</th>\n",
       "      <th>bio</th>\n",
       "      <th>teaching background</th>\n",
       "    </tr>\n",
       "  </thead>\n",
       "  <tbody>\n",
       "    <tr>\n",
       "      <th>0</th>\n",
       "      <td>Paul Russo</td>\n",
       "      <td>Ph.D. Vice Provost and Dean</td>\n",
       "      <td>Recent research examines computational methods...</td>\n",
       "      <td>Teaches graduate courses in Social Computing, ...</td>\n",
       "    </tr>\n",
       "    <tr>\n",
       "      <th>1</th>\n",
       "      <td>Andy Catlin</td>\n",
       "      <td>Program Director, Data Analytics and Visualiz...</td>\n",
       "      <td>Data scientist and data system developer with ...</td>\n",
       "      <td>Teaches graduate courses in Analytics Programm...</td>\n",
       "    </tr>\n",
       "    <tr>\n",
       "      <th>2</th>\n",
       "      <td>Wonjun Lee</td>\n",
       "      <td>Assistant Professor, Artificial Intelligence</td>\n",
       "      <td>Recent research focuses on designing AI-based ...</td>\n",
       "      <td>Teaches graduate courses in Security Analytics...</td>\n",
       "    </tr>\n",
       "    <tr>\n",
       "      <th>3</th>\n",
       "      <td>Sergey Fogelson</td>\n",
       "      <td>Instructor</td>\n",
       "      <td>Data scientist and data product architect with...</td>\n",
       "      <td>Teaches graduate courses in Computational Stat...</td>\n",
       "    </tr>\n",
       "    <tr>\n",
       "      <th>4</th>\n",
       "      <td>Lawrence Fulton</td>\n",
       "      <td>Instructor</td>\n",
       "      <td>Health data scientist with expertise in machin...</td>\n",
       "      <td>Teaches graduate courses in Data Analytics, Ma...</td>\n",
       "    </tr>\n",
       "    <tr>\n",
       "      <th>5</th>\n",
       "      <td>Jeff Nieman</td>\n",
       "      <td>Instructor</td>\n",
       "      <td>Data scientist and project manager with expert...</td>\n",
       "      <td>Teaches graduate courses in Predictive Modelin...</td>\n",
       "    </tr>\n",
       "  </tbody>\n",
       "</table>\n",
       "</div>"
      ],
      "text/plain": [
       "              name                                              title  \\\n",
       "0       Paul Russo                        Ph.D. Vice Provost and Dean   \n",
       "1      Andy Catlin   Program Director, Data Analytics and Visualiz...   \n",
       "2       Wonjun Lee       Assistant Professor, Artificial Intelligence   \n",
       "3  Sergey Fogelson                                         Instructor   \n",
       "4  Lawrence Fulton                                         Instructor   \n",
       "5      Jeff Nieman                                         Instructor   \n",
       "\n",
       "                                                 bio  \\\n",
       "0  Recent research examines computational methods...   \n",
       "1  Data scientist and data system developer with ...   \n",
       "2  Recent research focuses on designing AI-based ...   \n",
       "3  Data scientist and data product architect with...   \n",
       "4  Health data scientist with expertise in machin...   \n",
       "5  Data scientist and project manager with expert...   \n",
       "\n",
       "                                 teaching background  \n",
       "0  Teaches graduate courses in Social Computing, ...  \n",
       "1  Teaches graduate courses in Analytics Programm...  \n",
       "2  Teaches graduate courses in Security Analytics...  \n",
       "3  Teaches graduate courses in Computational Stat...  \n",
       "4  Teaches graduate courses in Data Analytics, Ma...  \n",
       "5  Teaches graduate courses in Predictive Modelin...  "
      ]
     },
     "execution_count": 69,
     "metadata": {},
     "output_type": "execute_result"
    }
   ],
   "source": [
    "import pandas as pd\n",
    "# combine our data into a Pandas Dataframe\n",
    "faulty_info = pd.DataFrame({\n",
    "    \"name\": name,\n",
    "    \"title\": title,\n",
    "    \"bio\": bio,\n",
    "    \"teaching background\":teaching_background\n",
    "})\n",
    "# show the dataframe\n",
    "faulty_info"
   ]
  },
  {
   "cell_type": "markdown",
   "metadata": {},
   "source": [
    "# Part III: Working with Web API’s"
   ]
  },
  {
   "cell_type": "code",
   "execution_count": 1,
   "metadata": {},
   "outputs": [
    {
     "data": {
      "text/plain": [
       "<Response [200]>"
      ]
     },
     "execution_count": 1,
     "metadata": {},
     "output_type": "execute_result"
    }
   ],
   "source": [
    "import requests\n",
    "# download the web page\n",
    "res = requests.get('https://api.nytimes.com/svc/movies/v2/reviews/search.json?query=godfather&api-key=9kmNtGQaU51RJ363bQWoJMayZwjSom2V');\n",
    "res"
   ]
  },
  {
   "cell_type": "code",
   "execution_count": 2,
   "metadata": {},
   "outputs": [
    {
     "data": {
      "text/plain": [
       "dict"
      ]
     },
     "execution_count": 2,
     "metadata": {},
     "output_type": "execute_result"
    }
   ],
   "source": [
    "# now convert the 'res' object's JSON content into a dict of \n",
    "# native Python objects\n",
    "data = res.json()\n",
    "type(data)"
   ]
  },
  {
   "cell_type": "code",
   "execution_count": 3,
   "metadata": {},
   "outputs": [
    {
     "data": {
      "text/plain": [
       "5"
      ]
     },
     "execution_count": 3,
     "metadata": {},
     "output_type": "execute_result"
    }
   ],
   "source": [
    "# how many items are in the dict object?\n",
    "len(data)"
   ]
  },
  {
   "cell_type": "code",
   "execution_count": 4,
   "metadata": {
    "scrolled": false
   },
   "outputs": [
    {
     "data": {
      "text/plain": [
       "{'status': 'OK',\n",
       " 'copyright': 'Copyright (c) 2021 The New York Times Company. All Rights Reserved.',\n",
       " 'has_more': False,\n",
       " 'num_results': 10,\n",
       " 'results': [{'display_title': 'The Black Godfather',\n",
       "   'mpaa_rating': 'TV-MA',\n",
       "   'critics_pick': 0,\n",
       "   'byline': 'BEN KENIGSBERG',\n",
       "   'headline': '‘The Black Godfather’ Review: The Music Executive Who Made It All Happen',\n",
       "   'summary_short': 'Reginald Hudlin’s documentary about Clarence Avant includes many golden anecdotes.',\n",
       "   'publication_date': '2019-06-06',\n",
       "   'opening_date': '2019-06-07',\n",
       "   'date_updated': '2019-06-14 16:44:01',\n",
       "   'link': {'type': 'article',\n",
       "    'url': 'https://www.nytimes.com/2019/06/06/movies/the-black-godfather-review.html',\n",
       "    'suggested_link_text': 'Read the New York Times Review of The Black Godfather'},\n",
       "   'multimedia': {'type': 'mediumThreeByTwo210',\n",
       "    'src': 'https://static01.nyt.com/images/2019/06/05/arts/blackgodfather1/blackgodfather1-mediumThreeByTwo210.jpg',\n",
       "    'height': 140,\n",
       "    'width': 210}},\n",
       "  {'display_title': 'Square Grouper: The Godfathers of Ganja',\n",
       "   'mpaa_rating': 'R',\n",
       "   'critics_pick': 0,\n",
       "   'byline': 'RACHEL SALTZ',\n",
       "   'headline': 'Adventures in the Drug Trades',\n",
       "   'summary_short': '“Square Grouper” is a documentary about pot smuggling in South Florida in the 1970s and ’80s.',\n",
       "   'publication_date': '2011-04-14',\n",
       "   'opening_date': '2011-04-15',\n",
       "   'date_updated': '2017-11-02 04:18:13',\n",
       "   'link': {'type': 'article',\n",
       "    'url': 'https://www.nytimes.com/2011/04/15/movies/square-grouper-movie-review.html',\n",
       "    'suggested_link_text': 'Read the New York Times Review of Square Grouper: The Godfathers of Ganja'},\n",
       "   'multimedia': None},\n",
       "  {'display_title': 'Tokyo Godfathers',\n",
       "   'mpaa_rating': 'PG-13',\n",
       "   'critics_pick': 1,\n",
       "   'byline': 'A. O. Scott',\n",
       "   'headline': 'Three Down-and-Outs Rescue a Foundling From the Trash',\n",
       "   'summary_short': \"Another marvel from Satoshi Kon, whose first two films, &quot;Perfect Blue&quot; and &quot;Millennium Actress,&quot; have already pushed Japanese feature-length animation toward greater realism and wilder fantasy. Loosely based on &quot;3 Godfathers,&quot; John Ford's maudlin 1948 western, this movie, a sweet fable of decency amid the down and out, also has echoes of Chaplin and Capra. Three homeless people — an embittered alcoholic, a middle-aged transvestite and a teenage runaway — find an abandoned baby on Christmas Eve. As they try to reunite the foundling with her parents, they revisit their own unhappy lives, and travel through a city rendered with unbelievable precision and tinted with undeniable love. The potentially sticky sentiments of the story are balanced by a crazily inventive narrative and by Mr. Kon's cool, obsessively detailed visual style. At the end, the skyscrapers of Tokyo wriggle and dance to a Japanese-language techno version of Beethoven's &quot;Ode to Joy,&quot; which pretty much sums up this indescribable, unforgettable movie. — A. O. Scott\",\n",
       "   'publication_date': '2004-01-16',\n",
       "   'opening_date': None,\n",
       "   'date_updated': '2017-11-02 04:16:23',\n",
       "   'link': {'type': 'article',\n",
       "    'url': 'https://www.nytimes.com/2004/01/16/movies/film-review-three-down-outs-rescue-foundling-trash-anyone-have-pacifier.html',\n",
       "    'suggested_link_text': 'Read the New York Times Review of Tokyo Godfathers'},\n",
       "   'multimedia': None},\n",
       "  {'display_title': 'The Godfather, Part III',\n",
       "   'mpaa_rating': 'R',\n",
       "   'critics_pick': 1,\n",
       "   'byline': 'Janet Maslin',\n",
       "   'headline': 'GODFATHER PART III (MOVIE)',\n",
       "   'summary_short': \"Mafia heir trapped by legacy of past. Coppola's director's cut. Deeply moving.\",\n",
       "   'publication_date': '1990-12-25',\n",
       "   'opening_date': '1990-12-25',\n",
       "   'date_updated': '2017-11-02 04:17:42',\n",
       "   'link': {'type': 'article',\n",
       "    'url': 'https://www.nytimes.com/1990/12/25/movies/review-film-the-corleones-try-to-go-straight-in-the-godfather-part-iii.html',\n",
       "    'suggested_link_text': 'Read the New York Times Review of The Godfather, Part III'},\n",
       "   'multimedia': None},\n",
       "  {'display_title': 'The Godfather, Part II',\n",
       "   'mpaa_rating': 'R',\n",
       "   'critics_pick': 1,\n",
       "   'byline': 'VINCENT CANBY',\n",
       "   'headline': 'Godfather: Part II, The (Movie)',\n",
       "   'summary_short': '',\n",
       "   'publication_date': '1974-12-13',\n",
       "   'opening_date': '1974-12-20',\n",
       "   'date_updated': '2017-11-02 04:17:27',\n",
       "   'link': {'type': 'article',\n",
       "    'url': 'https://www.nytimes.com/1974/12/13/archives/godfather-part-ii-is-hard-to-define-the-cast.html',\n",
       "    'suggested_link_text': 'Read the New York Times Review of The Godfather, Part II'},\n",
       "   'multimedia': None},\n",
       "  {'display_title': 'The Black Godfather',\n",
       "   'mpaa_rating': 'R',\n",
       "   'critics_pick': 0,\n",
       "   'byline': 'NORA SAYRE',\n",
       "   'headline': 'Black Godfather, The (Movie)',\n",
       "   'summary_short': '',\n",
       "   'publication_date': '1974-09-04',\n",
       "   'opening_date': None,\n",
       "   'date_updated': '2017-11-02 04:16:03',\n",
       "   'link': {'type': 'article',\n",
       "    'url': 'https://www.nytimes.com/1974/09/04/archives/screen-drug-traffickers-vie-in-black-godfather.html',\n",
       "    'suggested_link_text': 'Read the New York Times Review of The Black Godfather'},\n",
       "   'multimedia': None},\n",
       "  {'display_title': 'The Godfather',\n",
       "   'mpaa_rating': 'R',\n",
       "   'critics_pick': 1,\n",
       "   'byline': 'Vincent Canby',\n",
       "   'headline': 'THE GODFATHER (MOVIE)',\n",
       "   'summary_short': \"Puzo's Mafioso novel. Scalding and memorable.\",\n",
       "   'publication_date': '1972-03-16',\n",
       "   'opening_date': '1972-03-24',\n",
       "   'date_updated': '2017-11-02 04:17:26',\n",
       "   'link': {'type': 'article',\n",
       "    'url': 'https://www.nytimes.com/1972/03/16/archives/moving-and-brutal-godfather-bows.html',\n",
       "    'suggested_link_text': 'Read the New York Times Review of The Godfather'},\n",
       "   'multimedia': None},\n",
       "  {'display_title': 'Three Godfathers',\n",
       "   'mpaa_rating': 'Passed',\n",
       "   'critics_pick': 0,\n",
       "   'byline': 'BOSLEY CROWTHER',\n",
       "   'headline': 'Three Godfathers',\n",
       "   'summary_short': 'Outlaw trio and abandoned child. Typical, expert Ford western.',\n",
       "   'publication_date': '1949-03-04',\n",
       "   'opening_date': '1948-12-01',\n",
       "   'date_updated': '2017-11-02 04:17:11',\n",
       "   'link': {'type': 'article',\n",
       "    'url': 'https://www.nytimes.com/1949/03/04/archives/the-screen-in-review-john-wayne-harry-carey-jr-in-three-godfathers.html',\n",
       "    'suggested_link_text': 'Read the New York Times Review of Three Godfathers'},\n",
       "   'multimedia': None},\n",
       "  {'display_title': 'Miracle in the Sand',\n",
       "   'mpaa_rating': 'Passed',\n",
       "   'critics_pick': 0,\n",
       "   'byline': 'J.T.M.',\n",
       "   'headline': 'Three Godfathers, The',\n",
       "   'summary_short': 'Thieves reluctantly care for orphan. Tragic horse opera.',\n",
       "   'publication_date': '1936-03-09',\n",
       "   'opening_date': '1936-03-06',\n",
       "   'date_updated': '2017-11-02 04:16:58',\n",
       "   'link': {'type': 'article',\n",
       "    'url': 'https://www.nytimes.com/1936/03/09/archives/at-the-rialto.html',\n",
       "    'suggested_link_text': 'Read the New York Times Review of Miracle in the Sand'},\n",
       "   'multimedia': None},\n",
       "  {'display_title': 'El Compadre Mendoza',\n",
       "   'mpaa_rating': '',\n",
       "   'critics_pick': 0,\n",
       "   'byline': 'Harry T. Smith',\n",
       "   'headline': 'Compadre Mendoza, El',\n",
       "   'summary_short': 'Landowner survives Mexican Revolution by supporting both sides. Directed by Fernando de Fuentes.',\n",
       "   'publication_date': '1934-11-19',\n",
       "   'opening_date': '1934-11-18',\n",
       "   'date_updated': '2017-11-02 04:16:55',\n",
       "   'link': {'type': 'article',\n",
       "    'url': 'https://www.nytimes.com/1934/11/19/archives/a-mexican-tragedy.html',\n",
       "    'suggested_link_text': 'Read the New York Times Review of El Compadre Mendoza'},\n",
       "   'multimedia': None}]}"
      ]
     },
     "execution_count": 4,
     "metadata": {},
     "output_type": "execute_result"
    }
   ],
   "source": [
    "# check the content of the dict\n",
    "data"
   ]
  },
  {
   "cell_type": "code",
   "execution_count": 5,
   "metadata": {},
   "outputs": [
    {
     "data": {
      "text/plain": [
       "[{'display_title': 'The Black Godfather',\n",
       "  'mpaa_rating': 'TV-MA',\n",
       "  'critics_pick': 0,\n",
       "  'byline': 'BEN KENIGSBERG',\n",
       "  'headline': '‘The Black Godfather’ Review: The Music Executive Who Made It All Happen',\n",
       "  'summary_short': 'Reginald Hudlin’s documentary about Clarence Avant includes many golden anecdotes.',\n",
       "  'publication_date': '2019-06-06',\n",
       "  'opening_date': '2019-06-07',\n",
       "  'date_updated': '2019-06-14 16:44:01',\n",
       "  'link': {'type': 'article',\n",
       "   'url': 'https://www.nytimes.com/2019/06/06/movies/the-black-godfather-review.html',\n",
       "   'suggested_link_text': 'Read the New York Times Review of The Black Godfather'},\n",
       "  'multimedia': {'type': 'mediumThreeByTwo210',\n",
       "   'src': 'https://static01.nyt.com/images/2019/06/05/arts/blackgodfather1/blackgodfather1-mediumThreeByTwo210.jpg',\n",
       "   'height': 140,\n",
       "   'width': 210}},\n",
       " {'display_title': 'Square Grouper: The Godfathers of Ganja',\n",
       "  'mpaa_rating': 'R',\n",
       "  'critics_pick': 0,\n",
       "  'byline': 'RACHEL SALTZ',\n",
       "  'headline': 'Adventures in the Drug Trades',\n",
       "  'summary_short': '“Square Grouper” is a documentary about pot smuggling in South Florida in the 1970s and ’80s.',\n",
       "  'publication_date': '2011-04-14',\n",
       "  'opening_date': '2011-04-15',\n",
       "  'date_updated': '2017-11-02 04:18:13',\n",
       "  'link': {'type': 'article',\n",
       "   'url': 'https://www.nytimes.com/2011/04/15/movies/square-grouper-movie-review.html',\n",
       "   'suggested_link_text': 'Read the New York Times Review of Square Grouper: The Godfathers of Ganja'},\n",
       "  'multimedia': None},\n",
       " {'display_title': 'Tokyo Godfathers',\n",
       "  'mpaa_rating': 'PG-13',\n",
       "  'critics_pick': 1,\n",
       "  'byline': 'A. O. Scott',\n",
       "  'headline': 'Three Down-and-Outs Rescue a Foundling From the Trash',\n",
       "  'summary_short': \"Another marvel from Satoshi Kon, whose first two films, &quot;Perfect Blue&quot; and &quot;Millennium Actress,&quot; have already pushed Japanese feature-length animation toward greater realism and wilder fantasy. Loosely based on &quot;3 Godfathers,&quot; John Ford's maudlin 1948 western, this movie, a sweet fable of decency amid the down and out, also has echoes of Chaplin and Capra. Three homeless people — an embittered alcoholic, a middle-aged transvestite and a teenage runaway — find an abandoned baby on Christmas Eve. As they try to reunite the foundling with her parents, they revisit their own unhappy lives, and travel through a city rendered with unbelievable precision and tinted with undeniable love. The potentially sticky sentiments of the story are balanced by a crazily inventive narrative and by Mr. Kon's cool, obsessively detailed visual style. At the end, the skyscrapers of Tokyo wriggle and dance to a Japanese-language techno version of Beethoven's &quot;Ode to Joy,&quot; which pretty much sums up this indescribable, unforgettable movie. — A. O. Scott\",\n",
       "  'publication_date': '2004-01-16',\n",
       "  'opening_date': None,\n",
       "  'date_updated': '2017-11-02 04:16:23',\n",
       "  'link': {'type': 'article',\n",
       "   'url': 'https://www.nytimes.com/2004/01/16/movies/film-review-three-down-outs-rescue-foundling-trash-anyone-have-pacifier.html',\n",
       "   'suggested_link_text': 'Read the New York Times Review of Tokyo Godfathers'},\n",
       "  'multimedia': None},\n",
       " {'display_title': 'The Godfather, Part III',\n",
       "  'mpaa_rating': 'R',\n",
       "  'critics_pick': 1,\n",
       "  'byline': 'Janet Maslin',\n",
       "  'headline': 'GODFATHER PART III (MOVIE)',\n",
       "  'summary_short': \"Mafia heir trapped by legacy of past. Coppola's director's cut. Deeply moving.\",\n",
       "  'publication_date': '1990-12-25',\n",
       "  'opening_date': '1990-12-25',\n",
       "  'date_updated': '2017-11-02 04:17:42',\n",
       "  'link': {'type': 'article',\n",
       "   'url': 'https://www.nytimes.com/1990/12/25/movies/review-film-the-corleones-try-to-go-straight-in-the-godfather-part-iii.html',\n",
       "   'suggested_link_text': 'Read the New York Times Review of The Godfather, Part III'},\n",
       "  'multimedia': None},\n",
       " {'display_title': 'The Godfather, Part II',\n",
       "  'mpaa_rating': 'R',\n",
       "  'critics_pick': 1,\n",
       "  'byline': 'VINCENT CANBY',\n",
       "  'headline': 'Godfather: Part II, The (Movie)',\n",
       "  'summary_short': '',\n",
       "  'publication_date': '1974-12-13',\n",
       "  'opening_date': '1974-12-20',\n",
       "  'date_updated': '2017-11-02 04:17:27',\n",
       "  'link': {'type': 'article',\n",
       "   'url': 'https://www.nytimes.com/1974/12/13/archives/godfather-part-ii-is-hard-to-define-the-cast.html',\n",
       "   'suggested_link_text': 'Read the New York Times Review of The Godfather, Part II'},\n",
       "  'multimedia': None},\n",
       " {'display_title': 'The Black Godfather',\n",
       "  'mpaa_rating': 'R',\n",
       "  'critics_pick': 0,\n",
       "  'byline': 'NORA SAYRE',\n",
       "  'headline': 'Black Godfather, The (Movie)',\n",
       "  'summary_short': '',\n",
       "  'publication_date': '1974-09-04',\n",
       "  'opening_date': None,\n",
       "  'date_updated': '2017-11-02 04:16:03',\n",
       "  'link': {'type': 'article',\n",
       "   'url': 'https://www.nytimes.com/1974/09/04/archives/screen-drug-traffickers-vie-in-black-godfather.html',\n",
       "   'suggested_link_text': 'Read the New York Times Review of The Black Godfather'},\n",
       "  'multimedia': None},\n",
       " {'display_title': 'The Godfather',\n",
       "  'mpaa_rating': 'R',\n",
       "  'critics_pick': 1,\n",
       "  'byline': 'Vincent Canby',\n",
       "  'headline': 'THE GODFATHER (MOVIE)',\n",
       "  'summary_short': \"Puzo's Mafioso novel. Scalding and memorable.\",\n",
       "  'publication_date': '1972-03-16',\n",
       "  'opening_date': '1972-03-24',\n",
       "  'date_updated': '2017-11-02 04:17:26',\n",
       "  'link': {'type': 'article',\n",
       "   'url': 'https://www.nytimes.com/1972/03/16/archives/moving-and-brutal-godfather-bows.html',\n",
       "   'suggested_link_text': 'Read the New York Times Review of The Godfather'},\n",
       "  'multimedia': None},\n",
       " {'display_title': 'Three Godfathers',\n",
       "  'mpaa_rating': 'Passed',\n",
       "  'critics_pick': 0,\n",
       "  'byline': 'BOSLEY CROWTHER',\n",
       "  'headline': 'Three Godfathers',\n",
       "  'summary_short': 'Outlaw trio and abandoned child. Typical, expert Ford western.',\n",
       "  'publication_date': '1949-03-04',\n",
       "  'opening_date': '1948-12-01',\n",
       "  'date_updated': '2017-11-02 04:17:11',\n",
       "  'link': {'type': 'article',\n",
       "   'url': 'https://www.nytimes.com/1949/03/04/archives/the-screen-in-review-john-wayne-harry-carey-jr-in-three-godfathers.html',\n",
       "   'suggested_link_text': 'Read the New York Times Review of Three Godfathers'},\n",
       "  'multimedia': None},\n",
       " {'display_title': 'Miracle in the Sand',\n",
       "  'mpaa_rating': 'Passed',\n",
       "  'critics_pick': 0,\n",
       "  'byline': 'J.T.M.',\n",
       "  'headline': 'Three Godfathers, The',\n",
       "  'summary_short': 'Thieves reluctantly care for orphan. Tragic horse opera.',\n",
       "  'publication_date': '1936-03-09',\n",
       "  'opening_date': '1936-03-06',\n",
       "  'date_updated': '2017-11-02 04:16:58',\n",
       "  'link': {'type': 'article',\n",
       "   'url': 'https://www.nytimes.com/1936/03/09/archives/at-the-rialto.html',\n",
       "   'suggested_link_text': 'Read the New York Times Review of Miracle in the Sand'},\n",
       "  'multimedia': None},\n",
       " {'display_title': 'El Compadre Mendoza',\n",
       "  'mpaa_rating': '',\n",
       "  'critics_pick': 0,\n",
       "  'byline': 'Harry T. Smith',\n",
       "  'headline': 'Compadre Mendoza, El',\n",
       "  'summary_short': 'Landowner survives Mexican Revolution by supporting both sides. Directed by Fernando de Fuentes.',\n",
       "  'publication_date': '1934-11-19',\n",
       "  'opening_date': '1934-11-18',\n",
       "  'date_updated': '2017-11-02 04:16:55',\n",
       "  'link': {'type': 'article',\n",
       "   'url': 'https://www.nytimes.com/1934/11/19/archives/a-mexican-tragedy.html',\n",
       "   'suggested_link_text': 'Read the New York Times Review of El Compadre Mendoza'},\n",
       "  'multimedia': None}]"
      ]
     },
     "execution_count": 5,
     "metadata": {},
     "output_type": "execute_result"
    }
   ],
   "source": [
    "# view the content of the results object\n",
    "data['results']"
   ]
  },
  {
   "cell_type": "code",
   "execution_count": 6,
   "metadata": {},
   "outputs": [
    {
     "data": {
      "text/plain": [
       "list"
      ]
     },
     "execution_count": 6,
     "metadata": {},
     "output_type": "execute_result"
    }
   ],
   "source": [
    "# show the type of the results object\n",
    "type(data['results'])"
   ]
  },
  {
   "cell_type": "code",
   "execution_count": 7,
   "metadata": {},
   "outputs": [
    {
     "data": {
      "text/plain": [
       "10"
      ]
     },
     "execution_count": 7,
     "metadata": {},
     "output_type": "execute_result"
    }
   ],
   "source": [
    "# how many items are in the list object?\n",
    "len(data['results'])"
   ]
  },
  {
   "cell_type": "code",
   "execution_count": 8,
   "metadata": {},
   "outputs": [],
   "source": [
    "import pandas as pd"
   ]
  },
  {
   "cell_type": "code",
   "execution_count": 9,
   "metadata": {},
   "outputs": [
    {
     "data": {
      "text/html": [
       "<div>\n",
       "<style scoped>\n",
       "    .dataframe tbody tr th:only-of-type {\n",
       "        vertical-align: middle;\n",
       "    }\n",
       "\n",
       "    .dataframe tbody tr th {\n",
       "        vertical-align: top;\n",
       "    }\n",
       "\n",
       "    .dataframe thead th {\n",
       "        text-align: right;\n",
       "    }\n",
       "</style>\n",
       "<table border=\"1\" class=\"dataframe\">\n",
       "  <thead>\n",
       "    <tr style=\"text-align: right;\">\n",
       "      <th></th>\n",
       "      <th>display_title</th>\n",
       "      <th>mpaa_rating</th>\n",
       "      <th>critics_pick</th>\n",
       "      <th>byline</th>\n",
       "      <th>headline</th>\n",
       "      <th>summary_short</th>\n",
       "      <th>publication_date</th>\n",
       "      <th>opening_date</th>\n",
       "      <th>date_updated</th>\n",
       "      <th>link</th>\n",
       "      <th>multimedia</th>\n",
       "    </tr>\n",
       "  </thead>\n",
       "  <tbody>\n",
       "    <tr>\n",
       "      <th>0</th>\n",
       "      <td>The Black Godfather</td>\n",
       "      <td>TV-MA</td>\n",
       "      <td>0</td>\n",
       "      <td>BEN KENIGSBERG</td>\n",
       "      <td>‘The Black Godfather’ Review: The Music Execut...</td>\n",
       "      <td>Reginald Hudlin’s documentary about Clarence A...</td>\n",
       "      <td>2019-06-06</td>\n",
       "      <td>2019-06-07</td>\n",
       "      <td>2019-06-14 16:44:01</td>\n",
       "      <td>{'type': 'article', 'url': 'https://www.nytime...</td>\n",
       "      <td>{'type': 'mediumThreeByTwo210', 'src': 'https:...</td>\n",
       "    </tr>\n",
       "    <tr>\n",
       "      <th>1</th>\n",
       "      <td>Square Grouper: The Godfathers of Ganja</td>\n",
       "      <td>R</td>\n",
       "      <td>0</td>\n",
       "      <td>RACHEL SALTZ</td>\n",
       "      <td>Adventures in the Drug Trades</td>\n",
       "      <td>“Square Grouper” is a documentary about pot sm...</td>\n",
       "      <td>2011-04-14</td>\n",
       "      <td>2011-04-15</td>\n",
       "      <td>2017-11-02 04:18:13</td>\n",
       "      <td>{'type': 'article', 'url': 'https://www.nytime...</td>\n",
       "      <td>None</td>\n",
       "    </tr>\n",
       "    <tr>\n",
       "      <th>2</th>\n",
       "      <td>Tokyo Godfathers</td>\n",
       "      <td>PG-13</td>\n",
       "      <td>1</td>\n",
       "      <td>A. O. Scott</td>\n",
       "      <td>Three Down-and-Outs Rescue a Foundling From th...</td>\n",
       "      <td>Another marvel from Satoshi Kon, whose first t...</td>\n",
       "      <td>2004-01-16</td>\n",
       "      <td>None</td>\n",
       "      <td>2017-11-02 04:16:23</td>\n",
       "      <td>{'type': 'article', 'url': 'https://www.nytime...</td>\n",
       "      <td>None</td>\n",
       "    </tr>\n",
       "    <tr>\n",
       "      <th>3</th>\n",
       "      <td>The Godfather, Part III</td>\n",
       "      <td>R</td>\n",
       "      <td>1</td>\n",
       "      <td>Janet Maslin</td>\n",
       "      <td>GODFATHER PART III (MOVIE)</td>\n",
       "      <td>Mafia heir trapped by legacy of past. Coppola'...</td>\n",
       "      <td>1990-12-25</td>\n",
       "      <td>1990-12-25</td>\n",
       "      <td>2017-11-02 04:17:42</td>\n",
       "      <td>{'type': 'article', 'url': 'https://www.nytime...</td>\n",
       "      <td>None</td>\n",
       "    </tr>\n",
       "    <tr>\n",
       "      <th>4</th>\n",
       "      <td>The Godfather, Part II</td>\n",
       "      <td>R</td>\n",
       "      <td>1</td>\n",
       "      <td>VINCENT CANBY</td>\n",
       "      <td>Godfather: Part II, The (Movie)</td>\n",
       "      <td></td>\n",
       "      <td>1974-12-13</td>\n",
       "      <td>1974-12-20</td>\n",
       "      <td>2017-11-02 04:17:27</td>\n",
       "      <td>{'type': 'article', 'url': 'https://www.nytime...</td>\n",
       "      <td>None</td>\n",
       "    </tr>\n",
       "    <tr>\n",
       "      <th>5</th>\n",
       "      <td>The Black Godfather</td>\n",
       "      <td>R</td>\n",
       "      <td>0</td>\n",
       "      <td>NORA SAYRE</td>\n",
       "      <td>Black Godfather, The (Movie)</td>\n",
       "      <td></td>\n",
       "      <td>1974-09-04</td>\n",
       "      <td>None</td>\n",
       "      <td>2017-11-02 04:16:03</td>\n",
       "      <td>{'type': 'article', 'url': 'https://www.nytime...</td>\n",
       "      <td>None</td>\n",
       "    </tr>\n",
       "    <tr>\n",
       "      <th>6</th>\n",
       "      <td>The Godfather</td>\n",
       "      <td>R</td>\n",
       "      <td>1</td>\n",
       "      <td>Vincent Canby</td>\n",
       "      <td>THE GODFATHER (MOVIE)</td>\n",
       "      <td>Puzo's Mafioso novel. Scalding and memorable.</td>\n",
       "      <td>1972-03-16</td>\n",
       "      <td>1972-03-24</td>\n",
       "      <td>2017-11-02 04:17:26</td>\n",
       "      <td>{'type': 'article', 'url': 'https://www.nytime...</td>\n",
       "      <td>None</td>\n",
       "    </tr>\n",
       "    <tr>\n",
       "      <th>7</th>\n",
       "      <td>Three Godfathers</td>\n",
       "      <td>Passed</td>\n",
       "      <td>0</td>\n",
       "      <td>BOSLEY CROWTHER</td>\n",
       "      <td>Three Godfathers</td>\n",
       "      <td>Outlaw trio and abandoned child. Typical, expe...</td>\n",
       "      <td>1949-03-04</td>\n",
       "      <td>1948-12-01</td>\n",
       "      <td>2017-11-02 04:17:11</td>\n",
       "      <td>{'type': 'article', 'url': 'https://www.nytime...</td>\n",
       "      <td>None</td>\n",
       "    </tr>\n",
       "    <tr>\n",
       "      <th>8</th>\n",
       "      <td>Miracle in the Sand</td>\n",
       "      <td>Passed</td>\n",
       "      <td>0</td>\n",
       "      <td>J.T.M.</td>\n",
       "      <td>Three Godfathers, The</td>\n",
       "      <td>Thieves reluctantly care for orphan. Tragic ho...</td>\n",
       "      <td>1936-03-09</td>\n",
       "      <td>1936-03-06</td>\n",
       "      <td>2017-11-02 04:16:58</td>\n",
       "      <td>{'type': 'article', 'url': 'https://www.nytime...</td>\n",
       "      <td>None</td>\n",
       "    </tr>\n",
       "    <tr>\n",
       "      <th>9</th>\n",
       "      <td>El Compadre Mendoza</td>\n",
       "      <td></td>\n",
       "      <td>0</td>\n",
       "      <td>Harry T. Smith</td>\n",
       "      <td>Compadre Mendoza, El</td>\n",
       "      <td>Landowner survives Mexican Revolution by suppo...</td>\n",
       "      <td>1934-11-19</td>\n",
       "      <td>1934-11-18</td>\n",
       "      <td>2017-11-02 04:16:55</td>\n",
       "      <td>{'type': 'article', 'url': 'https://www.nytime...</td>\n",
       "      <td>None</td>\n",
       "    </tr>\n",
       "  </tbody>\n",
       "</table>\n",
       "</div>"
      ],
      "text/plain": [
       "                             display_title mpaa_rating  critics_pick  \\\n",
       "0                      The Black Godfather       TV-MA             0   \n",
       "1  Square Grouper: The Godfathers of Ganja           R             0   \n",
       "2                         Tokyo Godfathers       PG-13             1   \n",
       "3                  The Godfather, Part III           R             1   \n",
       "4                   The Godfather, Part II           R             1   \n",
       "5                      The Black Godfather           R             0   \n",
       "6                            The Godfather           R             1   \n",
       "7                         Three Godfathers      Passed             0   \n",
       "8                      Miracle in the Sand      Passed             0   \n",
       "9                      El Compadre Mendoza                         0   \n",
       "\n",
       "            byline                                           headline  \\\n",
       "0   BEN KENIGSBERG  ‘The Black Godfather’ Review: The Music Execut...   \n",
       "1     RACHEL SALTZ                      Adventures in the Drug Trades   \n",
       "2      A. O. Scott  Three Down-and-Outs Rescue a Foundling From th...   \n",
       "3     Janet Maslin                         GODFATHER PART III (MOVIE)   \n",
       "4    VINCENT CANBY                    Godfather: Part II, The (Movie)   \n",
       "5       NORA SAYRE                       Black Godfather, The (Movie)   \n",
       "6    Vincent Canby                              THE GODFATHER (MOVIE)   \n",
       "7  BOSLEY CROWTHER                                   Three Godfathers   \n",
       "8           J.T.M.                              Three Godfathers, The   \n",
       "9   Harry T. Smith                               Compadre Mendoza, El   \n",
       "\n",
       "                                       summary_short publication_date  \\\n",
       "0  Reginald Hudlin’s documentary about Clarence A...       2019-06-06   \n",
       "1  “Square Grouper” is a documentary about pot sm...       2011-04-14   \n",
       "2  Another marvel from Satoshi Kon, whose first t...       2004-01-16   \n",
       "3  Mafia heir trapped by legacy of past. Coppola'...       1990-12-25   \n",
       "4                                                          1974-12-13   \n",
       "5                                                          1974-09-04   \n",
       "6      Puzo's Mafioso novel. Scalding and memorable.       1972-03-16   \n",
       "7  Outlaw trio and abandoned child. Typical, expe...       1949-03-04   \n",
       "8  Thieves reluctantly care for orphan. Tragic ho...       1936-03-09   \n",
       "9  Landowner survives Mexican Revolution by suppo...       1934-11-19   \n",
       "\n",
       "  opening_date         date_updated  \\\n",
       "0   2019-06-07  2019-06-14 16:44:01   \n",
       "1   2011-04-15  2017-11-02 04:18:13   \n",
       "2         None  2017-11-02 04:16:23   \n",
       "3   1990-12-25  2017-11-02 04:17:42   \n",
       "4   1974-12-20  2017-11-02 04:17:27   \n",
       "5         None  2017-11-02 04:16:03   \n",
       "6   1972-03-24  2017-11-02 04:17:26   \n",
       "7   1948-12-01  2017-11-02 04:17:11   \n",
       "8   1936-03-06  2017-11-02 04:16:58   \n",
       "9   1934-11-18  2017-11-02 04:16:55   \n",
       "\n",
       "                                                link  \\\n",
       "0  {'type': 'article', 'url': 'https://www.nytime...   \n",
       "1  {'type': 'article', 'url': 'https://www.nytime...   \n",
       "2  {'type': 'article', 'url': 'https://www.nytime...   \n",
       "3  {'type': 'article', 'url': 'https://www.nytime...   \n",
       "4  {'type': 'article', 'url': 'https://www.nytime...   \n",
       "5  {'type': 'article', 'url': 'https://www.nytime...   \n",
       "6  {'type': 'article', 'url': 'https://www.nytime...   \n",
       "7  {'type': 'article', 'url': 'https://www.nytime...   \n",
       "8  {'type': 'article', 'url': 'https://www.nytime...   \n",
       "9  {'type': 'article', 'url': 'https://www.nytime...   \n",
       "\n",
       "                                          multimedia  \n",
       "0  {'type': 'mediumThreeByTwo210', 'src': 'https:...  \n",
       "1                                               None  \n",
       "2                                               None  \n",
       "3                                               None  \n",
       "4                                               None  \n",
       "5                                               None  \n",
       "6                                               None  \n",
       "7                                               None  \n",
       "8                                               None  \n",
       "9                                               None  "
      ]
     },
     "execution_count": 9,
     "metadata": {},
     "output_type": "execute_result"
    }
   ],
   "source": [
    "# now convert some of the extracted JSON data into a data frame\n",
    "issues = pd.DataFrame(data['results'])\n",
    "issues"
   ]
  },
  {
   "cell_type": "markdown",
   "metadata": {},
   "source": [
    "## Data Summary\n",
    "There are 11 attributes in this dataset:\n",
    "\n",
    "1. display_title;\n",
    "\n",
    "2. mpaa_rating;\n",
    "\n",
    "3. critics_pick;\n",
    "\n",
    "4. byline;\n",
    "\n",
    "5. headline;\n",
    "\n",
    "6. summary_short;\n",
    "\n",
    "7. publication_date;\n",
    "\n",
    "8. opening_date;\n",
    "\n",
    "9. date_updated;\n",
    "\n",
    "10. link;\n",
    "\n",
    "11. multimedia.\n",
    "\n",
    "The specific type of each data is below:"
   ]
  },
  {
   "cell_type": "code",
   "execution_count": 10,
   "metadata": {},
   "outputs": [
    {
     "name": "stdout",
     "output_type": "stream",
     "text": [
      "display_title       object\n",
      "mpaa_rating         object\n",
      "critics_pick         int64\n",
      "byline              object\n",
      "headline            object\n",
      "summary_short       object\n",
      "publication_date    object\n",
      "opening_date        object\n",
      "date_updated        object\n",
      "link                object\n",
      "multimedia          object\n",
      "dtype: object\n"
     ]
    }
   ],
   "source": [
    "print(issues.dtypes)"
   ]
  },
  {
   "cell_type": "markdown",
   "metadata": {},
   "source": [
    "As we can see, the data types of critics_pick is int64, the data types of others are object."
   ]
  },
  {
   "cell_type": "markdown",
   "metadata": {},
   "source": [
    "## Exploratory Data Analysis (EDA)\n",
    "\n",
    "Summary statistics for each attribute and appropriate graphical analysis for some attributes using Seaborn."
   ]
  },
  {
   "cell_type": "code",
   "execution_count": 12,
   "metadata": {},
   "outputs": [
    {
     "data": {
      "text/plain": [
       "count                      10\n",
       "unique                      9\n",
       "top       The Black Godfather\n",
       "freq                        2\n",
       "Name: display_title, dtype: object"
      ]
     },
     "execution_count": 12,
     "metadata": {},
     "output_type": "execute_result"
    }
   ],
   "source": [
    "# get descriptive stats for display_title\n",
    "issues['display_title'].describe()"
   ]
  },
  {
   "cell_type": "markdown",
   "metadata": {},
   "source": [
    "### Preliminary Data Analysis - mpaa_rating\n",
    "\n",
    "Here we examine the distribution of mpaa_rating."
   ]
  },
  {
   "cell_type": "code",
   "execution_count": 13,
   "metadata": {},
   "outputs": [
    {
     "data": {
      "text/plain": [
       "count     10\n",
       "unique     5\n",
       "top        R\n",
       "freq       5\n",
       "Name: mpaa_rating, dtype: object"
      ]
     },
     "execution_count": 13,
     "metadata": {},
     "output_type": "execute_result"
    }
   ],
   "source": [
    "# get descriptive stats for mpaa_rating\n",
    "issues['mpaa_rating'].describe()"
   ]
  },
  {
   "cell_type": "code",
   "execution_count": 19,
   "metadata": {},
   "outputs": [],
   "source": [
    "# load seaborn\n",
    "import seaborn as sns"
   ]
  },
  {
   "cell_type": "code",
   "execution_count": 20,
   "metadata": {},
   "outputs": [
    {
     "data": {
      "image/png": "[encoded data removed]",
      "text/plain": [
       "<Figure size 432x288 with 1 Axes>"
      ]
     },
     "metadata": {
      "needs_background": "light"
     },
     "output_type": "display_data"
    }
   ],
   "source": [
    "# define the type of plot you want to appear\n",
    "sns.histplot(issues['mpaa_rating'])\n",
    "# give the plot a title\n",
    "plt.title('Histogram of mpaa_rating')\n",
    "# show the histogram\n",
    "plt.show();"
   ]
  },
  {
   "cell_type": "markdown",
   "metadata": {},
   "source": [
    "The above histogram and descriptive statistics show that the overall distribution of mpaa_rating. They tell us that the most common mpaa_rating in this data set is \"R\", which is 5."
   ]
  },
  {
   "cell_type": "markdown",
   "metadata": {},
   "source": [
    "### Preliminary Data Analysis - critics_pick\n",
    "\n",
    "Here we examine the distribution of critics_pick."
   ]
  },
  {
   "cell_type": "code",
   "execution_count": 15,
   "metadata": {},
   "outputs": [],
   "source": [
    "# convert the column to string\n",
    "issues[\"critics_pick\"] = issues[\"critics_pick\"].astype(str)"
   ]
  },
  {
   "cell_type": "code",
   "execution_count": 16,
   "metadata": {},
   "outputs": [
    {
     "data": {
      "text/plain": [
       "count     10\n",
       "unique     2\n",
       "top        0\n",
       "freq       6\n",
       "Name: critics_pick, dtype: object"
      ]
     },
     "execution_count": 16,
     "metadata": {},
     "output_type": "execute_result"
    }
   ],
   "source": [
    "# get descriptive stats for critics_pick\n",
    "issues['critics_pick'].describe()"
   ]
  },
  {
   "cell_type": "code",
   "execution_count": 21,
   "metadata": {},
   "outputs": [
    {
     "data": {
      "image/png": "[encoded data removed]",
      "text/plain": [
       "<Figure size 432x288 with 1 Axes>"
      ]
     },
     "metadata": {
      "needs_background": "light"
     },
     "output_type": "display_data"
    }
   ],
   "source": [
    "# define the type of plot you want to appear\n",
    "sns.histplot(issues['critics_pick'])\n",
    "# give the plot a title\n",
    "plt.title('Histogram of critics_pick')\n",
    "# show the histogram\n",
    "plt.show();"
   ]
  },
  {
   "cell_type": "markdown",
   "metadata": {},
   "source": [
    "The above histogram and descriptive statistics show that the overall distribution of critics_pick. They tell us that the most common critics_pick in this data set is \"0\", which is 6."
   ]
  },
  {
   "cell_type": "code",
   "execution_count": 18,
   "metadata": {},
   "outputs": [
    {
     "data": {
      "text/plain": [
       "count                 10\n",
       "unique                10\n",
       "top       Harry T. Smith\n",
       "freq                   1\n",
       "Name: byline, dtype: object"
      ]
     },
     "execution_count": 18,
     "metadata": {},
     "output_type": "execute_result"
    }
   ],
   "source": [
    "# get descriptive stats for byline\n",
    "issues['byline'].describe()"
   ]
  },
  {
   "cell_type": "code",
   "execution_count": 47,
   "metadata": {},
   "outputs": [
    {
     "data": {
      "text/plain": [
       "count                        10\n",
       "unique                       10\n",
       "top       Three Godfathers, The\n",
       "freq                          1\n",
       "Name: headline, dtype: object"
      ]
     },
     "execution_count": 47,
     "metadata": {},
     "output_type": "execute_result"
    }
   ],
   "source": [
    "# get descriptive stats for headline\n",
    "issues['headline'].describe()"
   ]
  },
  {
   "cell_type": "code",
   "execution_count": 48,
   "metadata": {},
   "outputs": [
    {
     "data": {
      "text/plain": [
       "count     10\n",
       "unique     9\n",
       "top         \n",
       "freq       2\n",
       "Name: summary_short, dtype: object"
      ]
     },
     "execution_count": 48,
     "metadata": {},
     "output_type": "execute_result"
    }
   ],
   "source": [
    "# get descriptive stats for summary_short\n",
    "issues['summary_short'].describe()"
   ]
  },
  {
   "cell_type": "code",
   "execution_count": 49,
   "metadata": {},
   "outputs": [
    {
     "data": {
      "text/plain": [
       "count             10\n",
       "unique            10\n",
       "top       1936-03-09\n",
       "freq               1\n",
       "Name: publication_date, dtype: object"
      ]
     },
     "execution_count": 49,
     "metadata": {},
     "output_type": "execute_result"
    }
   ],
   "source": [
    "# get descriptive stats for publication_date\n",
    "issues['publication_date'].describe()"
   ]
  },
  {
   "cell_type": "code",
   "execution_count": 50,
   "metadata": {},
   "outputs": [
    {
     "data": {
      "text/plain": [
       "count              8\n",
       "unique             8\n",
       "top       1936-03-06\n",
       "freq               1\n",
       "Name: opening_date, dtype: object"
      ]
     },
     "execution_count": 50,
     "metadata": {},
     "output_type": "execute_result"
    }
   ],
   "source": [
    "# get descriptive stats for opening_date\n",
    "issues['opening_date'].describe()"
   ]
  },
  {
   "cell_type": "code",
   "execution_count": 51,
   "metadata": {},
   "outputs": [
    {
     "data": {
      "text/plain": [
       "count                      10\n",
       "unique                     10\n",
       "top       2017-11-02 04:17:42\n",
       "freq                        1\n",
       "Name: date_updated, dtype: object"
      ]
     },
     "execution_count": 51,
     "metadata": {},
     "output_type": "execute_result"
    }
   ],
   "source": [
    "# get descriptive stats for date_updated\n",
    "issues['date_updated'].describe()"
   ]
  },
  {
   "cell_type": "code",
   "execution_count": 52,
   "metadata": {},
   "outputs": [
    {
     "data": {
      "text/plain": [
       "count                                                    10\n",
       "unique                                                   10\n",
       "top       {'type': 'article', 'url': 'https://www.nytime...\n",
       "freq                                                      1\n",
       "Name: link, dtype: object"
      ]
     },
     "execution_count": 52,
     "metadata": {},
     "output_type": "execute_result"
    }
   ],
   "source": [
    "# get descriptive stats for link\n",
    "issues['link'].describe()"
   ]
  },
  {
   "cell_type": "code",
   "execution_count": 53,
   "metadata": {},
   "outputs": [
    {
     "data": {
      "text/plain": [
       "count                                                     1\n",
       "unique                                                    1\n",
       "top       {'type': 'mediumThreeByTwo210', 'src': 'https:...\n",
       "freq                                                      1\n",
       "Name: multimedia, dtype: object"
      ]
     },
     "execution_count": 53,
     "metadata": {},
     "output_type": "execute_result"
    }
   ],
   "source": [
    "# get descriptive stats for multmedia\n",
    "issues['multimedia'].describe()"
   ]
  }
 ],
 "metadata": {
  "kernelspec": {
   "display_name": "Python 3",
   "language": "python",
   "name": "python3"
  },
  "language_info": {
   "codemirror_mode": {
    "name": "ipython",
    "version": 3
   },
   "file_extension": ".py",
   "mimetype": "text/x-python",
   "name": "python",
   "nbconvert_exporter": "python",
   "pygments_lexer": "ipython3",
   "version": "3.8.5"
  }
 },
 "nbformat": 4,
 "nbformat_minor": 4
}
