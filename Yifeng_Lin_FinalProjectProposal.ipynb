{
 "cells": [
  {
   "cell_type": "markdown",
   "metadata": {},
   "source": [
    "# Final Project Proposal Draft"
   ]
  },
  {
   "cell_type": "markdown",
   "metadata": {},
   "source": [
    "### Group Member\n",
    "#### Yuan Zheng\n",
    "#### Yifeng Lin"
   ]
  },
  {
   "cell_type": "markdown",
   "metadata": {},
   "source": [
    "# 1. Introduction"
   ]
  },
  {
   "cell_type": "markdown",
   "metadata": {},
   "source": [
    "### Background "
   ]
  },
  {
   "cell_type": "markdown",
   "metadata": {},
   "source": [
    "There are many people who have died in the past few years because of many causes such as diseases of heart, septicemia, parkinson, etc.\n",
    "\n",
    "There are nearly 8.5 million people in New York City, and there are nearly 60000 people have died of various diseases every year in the past. We can never ignore the damages caused by diseases to people, especially fatal diseases."
   ]
  },
  {
   "cell_type": "markdown",
   "metadata": {},
   "source": [
    "### Topic"
   ]
  },
  {
   "cell_type": "markdown",
   "metadata": {},
   "source": [
    "We are going to research the leading causes of death by sex and ethnicity in New York City from 2007 to 2017, which will show you many deaths caused by various diseases. And then we will move further to see the disease of the heart, which is one of the most serious diseases in our real life.\n",
    "\n",
    "According to this research, you will know which disease is the strongest enemy to fight? You will gradually affirm the importance of good health and take immediate action to make you healthy to keep away from diseases."
   ]
  },
  {
   "cell_type": "markdown",
   "metadata": {},
   "source": [
    "# 2. Research Questions "
   ]
  },
  {
   "cell_type": "markdown",
   "metadata": {},
   "source": [
    "For this task, the dataset is viewed from the perspectives of people who have just been near 40 years old and have been afraid of getting a disease. According to the trend of death of different diseases in recent years, they need to know which diseases are their strongest enemy. Answers to the following questions will help them to solve the problems.\n",
    "\n",
    "1. What is the trend of disease death over ten years since 2007?\n",
    "\n",
    "2. Which five diseases cause the highest death rate over ten years?\n",
    "\n",
    "3. Does the older the age the greater the risk of heart disease? "
   ]
  },
  {
   "cell_type": "markdown",
   "metadata": {},
   "source": [
    "# 3. Data to be Used"
   ]
  },
  {
   "cell_type": "markdown",
   "metadata": {},
   "source": [
    "### First Data Resource"
   ]
  },
  {
   "cell_type": "markdown",
   "metadata": {},
   "source": [
    "We are going to use the first data  resource from https://data.cityofnewyork.us/Health/New-York-City-Leading-Causes-of-Death/jb7j-dtaml.\n",
    "\n",
    "The data need to be collected by getting the API from this website and get the API endpoint:\n",
    "https://data.cityofnewyork.us/resource/jb7j-dtam.json, then you will get the data of json format and you can make use of that and do some further analyses."
   ]
  },
  {
   "cell_type": "markdown",
   "metadata": {},
   "source": [
    "### Second Data Resource"
   ]
  },
  {
   "cell_type": "markdown",
   "metadata": {},
   "source": [
    "We are going to use our second data resource from https://www.kaggle.com/ronitf/heart-disease-uci, \n",
    "\n",
    "The data we are going to download in CSV format will as our supplementary data."
   ]
  },
  {
   "cell_type": "markdown",
   "metadata": {},
   "source": [
    "# 4. Approach"
   ]
  },
  {
   "cell_type": "markdown",
   "metadata": {},
   "source": [
    "### Data Management\n",
    "We will manage our data set by storing it in GitHub."
   ]
  },
  {
   "cell_type": "markdown",
   "metadata": {},
   "source": [
    "###  Statistical Analysis\n",
    "We plan to utilize an exploratory statistical analysis to help answer our research questions:\n",
    "\n",
    "First, We will show the data types of each attribute in our data set;\n",
    "\n",
    "Second, We will do summary statistics for each attribute and appropriate graphical analyses for some attributes. In this step, we will use a library named \"colorama\" to mark some important data."
   ]
  },
  {
   "cell_type": "markdown",
   "metadata": {},
   "source": [
    "### Graphific Used\n",
    "According to our research questions, we plan to mainly use line charts, bar charts, and histograms, etc. Besides using matlplotlib and seaborn, we'd like to use a new library named \"pyecharts\" to draw some charts, this library will make charts more beautiful and colorful, and it is convenient to draw a chart with \"pyecharts\".\n",
    "1. For the question1, we plan to use a line chart to show the trend over years.\n",
    "2. For the question2, we plan to use a bar chart to show the relationship between death and disease.\n",
    "3. For the question3, we plan to use a histogram to show the distribution of the number of people with heart disease in different ages."
   ]
  },
  {
   "cell_type": "markdown",
   "metadata": {},
   "source": [
    "### Member Responsibility\n",
    "Yuan Zheng:\n",
    "\n",
    "1. Data cleaning and organization;\n",
    "\n",
    "2. Propose research questions and make a preliminary analysis;\n",
    "\n",
    "3. Analyse each research question specifically.\n",
    "\n",
    "Yifeng Lin:\n",
    "\n",
    "1. Data Collection;\n",
    "\n",
    "2. Preliminary exploratory data analysis;\n",
    "\n",
    "3. Analyse each research question specifically."
   ]
  },
  {
   "cell_type": "markdown",
   "metadata": {},
   "source": [
    "## References\n",
    "https://pypi.org/project/colorama/\n",
    "\n",
    "https://github.com/pyecharts/pyecharts\n",
    "\n",
    "https://echarts.apache.org/zh/index.html"
   ]
  }
 ],
 "metadata": {
  "kernelspec": {
   "display_name": "Python 3",
   "language": "python",
   "name": "python3"
  },
  "language_info": {
   "codemirror_mode": {
    "name": "ipython",
    "version": 3
   },
   "file_extension": ".py",
   "mimetype": "text/x-python",
   "name": "python",
   "nbconvert_exporter": "python",
   "pygments_lexer": "ipython3",
   "version": "3.8.5"
  }
 },
 "nbformat": 4,
 "nbformat_minor": 4
}
